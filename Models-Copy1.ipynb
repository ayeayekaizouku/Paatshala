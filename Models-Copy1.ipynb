{
 "cells": [
  {
   "cell_type": "code",
   "execution_count": 1,
   "id": "4ae28672",
   "metadata": {},
   "outputs": [],
   "source": [
    "import pandas as pd\n",
    "import numpy as np\n",
    "import matplotlib.pyplot as plt\n",
    "import seaborn as sns\n",
    "from sklearn.model_selection import train_test_split"
   ]
  },
  {
   "cell_type": "code",
   "execution_count": 2,
   "id": "7e3bac52",
   "metadata": {},
   "outputs": [],
   "source": [
    "data= pd.read_csv('instagram_data3.csv')"
   ]
  },
  {
   "cell_type": "code",
   "execution_count": 3,
   "id": "8b477ade",
   "metadata": {},
   "outputs": [
    {
     "data": {
      "text/plain": [
       "(155004, 15)"
      ]
     },
     "execution_count": 3,
     "metadata": {},
     "output_type": "execute_result"
    }
   ],
   "source": [
    "data.shape"
   ]
  },
  {
   "cell_type": "code",
   "execution_count": 5,
   "id": "b3c12a92",
   "metadata": {},
   "outputs": [
    {
     "name": "stdout",
     "output_type": "stream",
     "text": [
      "<class 'pandas.core.frame.DataFrame'>\n",
      "RangeIndex: 155004 entries, 0 to 155003\n",
      "Data columns (total 15 columns):\n",
      " #   Column                 Non-Null Count   Dtype  \n",
      "---  ------                 --------------   -----  \n",
      " 0   User uuid              155004 non-null  int64  \n",
      " 1   Likes                  155004 non-null  int64  \n",
      " 2   Days passed from post  155004 non-null  int64  \n",
      " 3   Numer of Tags          155004 non-null  int64  \n",
      " 4   Numer of Comments      155004 non-null  int64  \n",
      " 5   Year                   155004 non-null  int64  \n",
      " 6   Month                  155004 non-null  int64  \n",
      " 7   Day                    155004 non-null  int64  \n",
      " 8   Hour                   155004 non-null  int64  \n",
      " 9   Minute                 155004 non-null  int64  \n",
      " 10  dayOfWeek              155004 non-null  int64  \n",
      " 11  quarter                155004 non-null  int64  \n",
      " 12  timeOfDay              155004 non-null  int64  \n",
      " 13  Season                 155004 non-null  int64  \n",
      " 14  Likes Score            155004 non-null  float64\n",
      "dtypes: float64(1), int64(14)\n",
      "memory usage: 17.7 MB\n"
     ]
    }
   ],
   "source": [
    "data.info()"
   ]
  },
  {
   "cell_type": "code",
   "execution_count": 6,
   "id": "bc33efcf",
   "metadata": {},
   "outputs": [
    {
     "data": {
      "text/html": [
       "<div>\n",
       "<style scoped>\n",
       "    .dataframe tbody tr th:only-of-type {\n",
       "        vertical-align: middle;\n",
       "    }\n",
       "\n",
       "    .dataframe tbody tr th {\n",
       "        vertical-align: top;\n",
       "    }\n",
       "\n",
       "    .dataframe thead th {\n",
       "        text-align: right;\n",
       "    }\n",
       "</style>\n",
       "<table border=\"1\" class=\"dataframe\">\n",
       "  <thead>\n",
       "    <tr style=\"text-align: right;\">\n",
       "      <th></th>\n",
       "      <th>User uuid</th>\n",
       "      <th>Likes</th>\n",
       "      <th>Days passed from post</th>\n",
       "      <th>Numer of Tags</th>\n",
       "      <th>Numer of Comments</th>\n",
       "      <th>Year</th>\n",
       "      <th>Month</th>\n",
       "      <th>Day</th>\n",
       "      <th>Hour</th>\n",
       "      <th>Minute</th>\n",
       "      <th>dayOfWeek</th>\n",
       "      <th>quarter</th>\n",
       "      <th>timeOfDay</th>\n",
       "      <th>Season</th>\n",
       "      <th>Likes Score</th>\n",
       "    </tr>\n",
       "  </thead>\n",
       "  <tbody>\n",
       "    <tr>\n",
       "      <th>0</th>\n",
       "      <td>1</td>\n",
       "      <td>506</td>\n",
       "      <td>657</td>\n",
       "      <td>3</td>\n",
       "      <td>11</td>\n",
       "      <td>2019</td>\n",
       "      <td>8</td>\n",
       "      <td>12</td>\n",
       "      <td>21</td>\n",
       "      <td>18</td>\n",
       "      <td>3</td>\n",
       "      <td>2</td>\n",
       "      <td>5</td>\n",
       "      <td>2</td>\n",
       "      <td>2.256189</td>\n",
       "    </tr>\n",
       "    <tr>\n",
       "      <th>1</th>\n",
       "      <td>1</td>\n",
       "      <td>385</td>\n",
       "      <td>657</td>\n",
       "      <td>0</td>\n",
       "      <td>1</td>\n",
       "      <td>2019</td>\n",
       "      <td>8</td>\n",
       "      <td>12</td>\n",
       "      <td>14</td>\n",
       "      <td>25</td>\n",
       "      <td>3</td>\n",
       "      <td>2</td>\n",
       "      <td>0</td>\n",
       "      <td>2</td>\n",
       "      <td>1.440677</td>\n",
       "    </tr>\n",
       "    <tr>\n",
       "      <th>2</th>\n",
       "      <td>1</td>\n",
       "      <td>373</td>\n",
       "      <td>666</td>\n",
       "      <td>4</td>\n",
       "      <td>15</td>\n",
       "      <td>2019</td>\n",
       "      <td>8</td>\n",
       "      <td>3</td>\n",
       "      <td>15</td>\n",
       "      <td>18</td>\n",
       "      <td>0</td>\n",
       "      <td>2</td>\n",
       "      <td>2</td>\n",
       "      <td>2</td>\n",
       "      <td>1.344735</td>\n",
       "    </tr>\n",
       "    <tr>\n",
       "      <th>3</th>\n",
       "      <td>1</td>\n",
       "      <td>312</td>\n",
       "      <td>667</td>\n",
       "      <td>4</td>\n",
       "      <td>1</td>\n",
       "      <td>2019</td>\n",
       "      <td>8</td>\n",
       "      <td>2</td>\n",
       "      <td>16</td>\n",
       "      <td>40</td>\n",
       "      <td>4</td>\n",
       "      <td>2</td>\n",
       "      <td>2</td>\n",
       "      <td>2</td>\n",
       "      <td>0.912993</td>\n",
       "    </tr>\n",
       "    <tr>\n",
       "      <th>4</th>\n",
       "      <td>1</td>\n",
       "      <td>513</td>\n",
       "      <td>674</td>\n",
       "      <td>5</td>\n",
       "      <td>0</td>\n",
       "      <td>2019</td>\n",
       "      <td>0</td>\n",
       "      <td>25</td>\n",
       "      <td>16</td>\n",
       "      <td>51</td>\n",
       "      <td>4</td>\n",
       "      <td>2</td>\n",
       "      <td>2</td>\n",
       "      <td>2</td>\n",
       "      <td>2.304160</td>\n",
       "    </tr>\n",
       "    <tr>\n",
       "      <th>...</th>\n",
       "      <td>...</td>\n",
       "      <td>...</td>\n",
       "      <td>...</td>\n",
       "      <td>...</td>\n",
       "      <td>...</td>\n",
       "      <td>...</td>\n",
       "      <td>...</td>\n",
       "      <td>...</td>\n",
       "      <td>...</td>\n",
       "      <td>...</td>\n",
       "      <td>...</td>\n",
       "      <td>...</td>\n",
       "      <td>...</td>\n",
       "      <td>...</td>\n",
       "      <td>...</td>\n",
       "    </tr>\n",
       "    <tr>\n",
       "      <th>154999</th>\n",
       "      <td>1089</td>\n",
       "      <td>9</td>\n",
       "      <td>821</td>\n",
       "      <td>0</td>\n",
       "      <td>1</td>\n",
       "      <td>2018</td>\n",
       "      <td>9</td>\n",
       "      <td>29</td>\n",
       "      <td>14</td>\n",
       "      <td>40</td>\n",
       "      <td>4</td>\n",
       "      <td>4</td>\n",
       "      <td>0</td>\n",
       "      <td>1</td>\n",
       "      <td>-0.957885</td>\n",
       "    </tr>\n",
       "    <tr>\n",
       "      <th>155000</th>\n",
       "      <td>1089</td>\n",
       "      <td>3</td>\n",
       "      <td>822</td>\n",
       "      <td>3</td>\n",
       "      <td>0</td>\n",
       "      <td>2018</td>\n",
       "      <td>9</td>\n",
       "      <td>28</td>\n",
       "      <td>20</td>\n",
       "      <td>59</td>\n",
       "      <td>6</td>\n",
       "      <td>4</td>\n",
       "      <td>5</td>\n",
       "      <td>1</td>\n",
       "      <td>-1.197742</td>\n",
       "    </tr>\n",
       "    <tr>\n",
       "      <th>155001</th>\n",
       "      <td>1089</td>\n",
       "      <td>2</td>\n",
       "      <td>822</td>\n",
       "      <td>0</td>\n",
       "      <td>0</td>\n",
       "      <td>2018</td>\n",
       "      <td>9</td>\n",
       "      <td>28</td>\n",
       "      <td>16</td>\n",
       "      <td>27</td>\n",
       "      <td>6</td>\n",
       "      <td>4</td>\n",
       "      <td>2</td>\n",
       "      <td>1</td>\n",
       "      <td>-1.245713</td>\n",
       "    </tr>\n",
       "    <tr>\n",
       "      <th>155002</th>\n",
       "      <td>1089</td>\n",
       "      <td>14</td>\n",
       "      <td>822</td>\n",
       "      <td>0</td>\n",
       "      <td>2</td>\n",
       "      <td>2018</td>\n",
       "      <td>9</td>\n",
       "      <td>28</td>\n",
       "      <td>14</td>\n",
       "      <td>37</td>\n",
       "      <td>6</td>\n",
       "      <td>4</td>\n",
       "      <td>0</td>\n",
       "      <td>1</td>\n",
       "      <td>-0.813972</td>\n",
       "    </tr>\n",
       "    <tr>\n",
       "      <th>155003</th>\n",
       "      <td>1089</td>\n",
       "      <td>9</td>\n",
       "      <td>823</td>\n",
       "      <td>0</td>\n",
       "      <td>0</td>\n",
       "      <td>2018</td>\n",
       "      <td>9</td>\n",
       "      <td>27</td>\n",
       "      <td>14</td>\n",
       "      <td>27</td>\n",
       "      <td>5</td>\n",
       "      <td>4</td>\n",
       "      <td>0</td>\n",
       "      <td>1</td>\n",
       "      <td>-0.957885</td>\n",
       "    </tr>\n",
       "  </tbody>\n",
       "</table>\n",
       "<p>155004 rows × 15 columns</p>\n",
       "</div>"
      ],
      "text/plain": [
       "        User uuid  Likes  Days passed from post  Numer of Tags  \\\n",
       "0               1    506                    657              3   \n",
       "1               1    385                    657              0   \n",
       "2               1    373                    666              4   \n",
       "3               1    312                    667              4   \n",
       "4               1    513                    674              5   \n",
       "...           ...    ...                    ...            ...   \n",
       "154999       1089      9                    821              0   \n",
       "155000       1089      3                    822              3   \n",
       "155001       1089      2                    822              0   \n",
       "155002       1089     14                    822              0   \n",
       "155003       1089      9                    823              0   \n",
       "\n",
       "        Numer of Comments  Year  Month  Day  Hour  Minute  dayOfWeek  quarter  \\\n",
       "0                      11  2019      8   12    21      18          3        2   \n",
       "1                       1  2019      8   12    14      25          3        2   \n",
       "2                      15  2019      8    3    15      18          0        2   \n",
       "3                       1  2019      8    2    16      40          4        2   \n",
       "4                       0  2019      0   25    16      51          4        2   \n",
       "...                   ...   ...    ...  ...   ...     ...        ...      ...   \n",
       "154999                  1  2018      9   29    14      40          4        4   \n",
       "155000                  0  2018      9   28    20      59          6        4   \n",
       "155001                  0  2018      9   28    16      27          6        4   \n",
       "155002                  2  2018      9   28    14      37          6        4   \n",
       "155003                  0  2018      9   27    14      27          5        4   \n",
       "\n",
       "        timeOfDay  Season  Likes Score  \n",
       "0               5       2     2.256189  \n",
       "1               0       2     1.440677  \n",
       "2               2       2     1.344735  \n",
       "3               2       2     0.912993  \n",
       "4               2       2     2.304160  \n",
       "...           ...     ...          ...  \n",
       "154999          0       1    -0.957885  \n",
       "155000          5       1    -1.197742  \n",
       "155001          2       1    -1.245713  \n",
       "155002          0       1    -0.813972  \n",
       "155003          0       1    -0.957885  \n",
       "\n",
       "[155004 rows x 15 columns]"
      ]
     },
     "execution_count": 6,
     "metadata": {},
     "output_type": "execute_result"
    }
   ],
   "source": [
    "data"
   ]
  },
  {
   "cell_type": "code",
   "execution_count": 4,
   "id": "60452e02",
   "metadata": {},
   "outputs": [],
   "source": [
    "data = data[(data['Year'] == 2020)]"
   ]
  },
  {
   "cell_type": "code",
   "execution_count": 8,
   "id": "f9cc5476",
   "metadata": {
    "scrolled": false
   },
   "outputs": [
    {
     "data": {
      "text/html": [
       "<div>\n",
       "<style scoped>\n",
       "    .dataframe tbody tr th:only-of-type {\n",
       "        vertical-align: middle;\n",
       "    }\n",
       "\n",
       "    .dataframe tbody tr th {\n",
       "        vertical-align: top;\n",
       "    }\n",
       "\n",
       "    .dataframe thead th {\n",
       "        text-align: right;\n",
       "    }\n",
       "</style>\n",
       "<table border=\"1\" class=\"dataframe\">\n",
       "  <thead>\n",
       "    <tr style=\"text-align: right;\">\n",
       "      <th></th>\n",
       "      <th>User uuid</th>\n",
       "      <th>Likes</th>\n",
       "      <th>Days passed from post</th>\n",
       "      <th>Numer of Tags</th>\n",
       "      <th>Numer of Comments</th>\n",
       "      <th>Year</th>\n",
       "      <th>Month</th>\n",
       "      <th>Day</th>\n",
       "      <th>Hour</th>\n",
       "      <th>Minute</th>\n",
       "      <th>dayOfWeek</th>\n",
       "      <th>quarter</th>\n",
       "      <th>timeOfDay</th>\n",
       "      <th>Season</th>\n",
       "      <th>Likes Score</th>\n",
       "    </tr>\n",
       "  </thead>\n",
       "  <tbody>\n",
       "    <tr>\n",
       "      <th>186</th>\n",
       "      <td>2</td>\n",
       "      <td>36</td>\n",
       "      <td>187</td>\n",
       "      <td>0</td>\n",
       "      <td>2</td>\n",
       "      <td>2020</td>\n",
       "      <td>1</td>\n",
       "      <td>23</td>\n",
       "      <td>22</td>\n",
       "      <td>6</td>\n",
       "      <td>3</td>\n",
       "      <td>3</td>\n",
       "      <td>5</td>\n",
       "      <td>0</td>\n",
       "      <td>2.735901</td>\n",
       "    </tr>\n",
       "    <tr>\n",
       "      <th>187</th>\n",
       "      <td>2</td>\n",
       "      <td>38</td>\n",
       "      <td>188</td>\n",
       "      <td>0</td>\n",
       "      <td>1</td>\n",
       "      <td>2020</td>\n",
       "      <td>1</td>\n",
       "      <td>23</td>\n",
       "      <td>18</td>\n",
       "      <td>49</td>\n",
       "      <td>3</td>\n",
       "      <td>3</td>\n",
       "      <td>5</td>\n",
       "      <td>0</td>\n",
       "      <td>2.927786</td>\n",
       "    </tr>\n",
       "    <tr>\n",
       "      <th>188</th>\n",
       "      <td>2</td>\n",
       "      <td>36</td>\n",
       "      <td>195</td>\n",
       "      <td>0</td>\n",
       "      <td>0</td>\n",
       "      <td>2020</td>\n",
       "      <td>1</td>\n",
       "      <td>15</td>\n",
       "      <td>23</td>\n",
       "      <td>41</td>\n",
       "      <td>2</td>\n",
       "      <td>3</td>\n",
       "      <td>5</td>\n",
       "      <td>0</td>\n",
       "      <td>2.735901</td>\n",
       "    </tr>\n",
       "    <tr>\n",
       "      <th>189</th>\n",
       "      <td>2</td>\n",
       "      <td>41</td>\n",
       "      <td>195</td>\n",
       "      <td>0</td>\n",
       "      <td>1</td>\n",
       "      <td>2020</td>\n",
       "      <td>1</td>\n",
       "      <td>15</td>\n",
       "      <td>22</td>\n",
       "      <td>3</td>\n",
       "      <td>2</td>\n",
       "      <td>3</td>\n",
       "      <td>5</td>\n",
       "      <td>0</td>\n",
       "      <td>3.263585</td>\n",
       "    </tr>\n",
       "    <tr>\n",
       "      <th>190</th>\n",
       "      <td>2</td>\n",
       "      <td>35</td>\n",
       "      <td>198</td>\n",
       "      <td>0</td>\n",
       "      <td>3</td>\n",
       "      <td>2020</td>\n",
       "      <td>1</td>\n",
       "      <td>13</td>\n",
       "      <td>19</td>\n",
       "      <td>19</td>\n",
       "      <td>4</td>\n",
       "      <td>3</td>\n",
       "      <td>5</td>\n",
       "      <td>0</td>\n",
       "      <td>2.591987</td>\n",
       "    </tr>\n",
       "    <tr>\n",
       "      <th>...</th>\n",
       "      <td>...</td>\n",
       "      <td>...</td>\n",
       "      <td>...</td>\n",
       "      <td>...</td>\n",
       "      <td>...</td>\n",
       "      <td>...</td>\n",
       "      <td>...</td>\n",
       "      <td>...</td>\n",
       "      <td>...</td>\n",
       "      <td>...</td>\n",
       "      <td>...</td>\n",
       "      <td>...</td>\n",
       "      <td>...</td>\n",
       "      <td>...</td>\n",
       "      <td>...</td>\n",
       "    </tr>\n",
       "    <tr>\n",
       "      <th>154847</th>\n",
       "      <td>1089</td>\n",
       "      <td>10</td>\n",
       "      <td>366</td>\n",
       "      <td>1</td>\n",
       "      <td>0</td>\n",
       "      <td>2020</td>\n",
       "      <td>3</td>\n",
       "      <td>27</td>\n",
       "      <td>6</td>\n",
       "      <td>14</td>\n",
       "      <td>4</td>\n",
       "      <td>1</td>\n",
       "      <td>1</td>\n",
       "      <td>3</td>\n",
       "      <td>-0.957885</td>\n",
       "    </tr>\n",
       "    <tr>\n",
       "      <th>154848</th>\n",
       "      <td>1089</td>\n",
       "      <td>43</td>\n",
       "      <td>375</td>\n",
       "      <td>0</td>\n",
       "      <td>1</td>\n",
       "      <td>2020</td>\n",
       "      <td>3</td>\n",
       "      <td>18</td>\n",
       "      <td>1</td>\n",
       "      <td>27</td>\n",
       "      <td>5</td>\n",
       "      <td>1</td>\n",
       "      <td>3</td>\n",
       "      <td>3</td>\n",
       "      <td>0.193425</td>\n",
       "    </tr>\n",
       "    <tr>\n",
       "      <th>154849</th>\n",
       "      <td>1089</td>\n",
       "      <td>74</td>\n",
       "      <td>386</td>\n",
       "      <td>2</td>\n",
       "      <td>15</td>\n",
       "      <td>2020</td>\n",
       "      <td>3</td>\n",
       "      <td>7</td>\n",
       "      <td>6</td>\n",
       "      <td>6</td>\n",
       "      <td>0</td>\n",
       "      <td>1</td>\n",
       "      <td>1</td>\n",
       "      <td>3</td>\n",
       "      <td>1.296764</td>\n",
       "    </tr>\n",
       "    <tr>\n",
       "      <th>154850</th>\n",
       "      <td>1089</td>\n",
       "      <td>3</td>\n",
       "      <td>423</td>\n",
       "      <td>2</td>\n",
       "      <td>0</td>\n",
       "      <td>2020</td>\n",
       "      <td>4</td>\n",
       "      <td>1</td>\n",
       "      <td>7</td>\n",
       "      <td>41</td>\n",
       "      <td>6</td>\n",
       "      <td>1</td>\n",
       "      <td>4</td>\n",
       "      <td>3</td>\n",
       "      <td>-1.197742</td>\n",
       "    </tr>\n",
       "    <tr>\n",
       "      <th>154851</th>\n",
       "      <td>1089</td>\n",
       "      <td>36</td>\n",
       "      <td>423</td>\n",
       "      <td>0</td>\n",
       "      <td>1</td>\n",
       "      <td>2020</td>\n",
       "      <td>4</td>\n",
       "      <td>1</td>\n",
       "      <td>7</td>\n",
       "      <td>38</td>\n",
       "      <td>6</td>\n",
       "      <td>1</td>\n",
       "      <td>4</td>\n",
       "      <td>3</td>\n",
       "      <td>-0.046432</td>\n",
       "    </tr>\n",
       "  </tbody>\n",
       "</table>\n",
       "<p>91877 rows × 15 columns</p>\n",
       "</div>"
      ],
      "text/plain": [
       "        User uuid  Likes  Days passed from post  Numer of Tags  \\\n",
       "186             2     36                    187              0   \n",
       "187             2     38                    188              0   \n",
       "188             2     36                    195              0   \n",
       "189             2     41                    195              0   \n",
       "190             2     35                    198              0   \n",
       "...           ...    ...                    ...            ...   \n",
       "154847       1089     10                    366              1   \n",
       "154848       1089     43                    375              0   \n",
       "154849       1089     74                    386              2   \n",
       "154850       1089      3                    423              2   \n",
       "154851       1089     36                    423              0   \n",
       "\n",
       "        Numer of Comments  Year  Month  Day  Hour  Minute  dayOfWeek  quarter  \\\n",
       "186                     2  2020      1   23    22       6          3        3   \n",
       "187                     1  2020      1   23    18      49          3        3   \n",
       "188                     0  2020      1   15    23      41          2        3   \n",
       "189                     1  2020      1   15    22       3          2        3   \n",
       "190                     3  2020      1   13    19      19          4        3   \n",
       "...                   ...   ...    ...  ...   ...     ...        ...      ...   \n",
       "154847                  0  2020      3   27     6      14          4        1   \n",
       "154848                  1  2020      3   18     1      27          5        1   \n",
       "154849                 15  2020      3    7     6       6          0        1   \n",
       "154850                  0  2020      4    1     7      41          6        1   \n",
       "154851                  1  2020      4    1     7      38          6        1   \n",
       "\n",
       "        timeOfDay  Season  Likes Score  \n",
       "186             5       0     2.735901  \n",
       "187             5       0     2.927786  \n",
       "188             5       0     2.735901  \n",
       "189             5       0     3.263585  \n",
       "190             5       0     2.591987  \n",
       "...           ...     ...          ...  \n",
       "154847          1       3    -0.957885  \n",
       "154848          3       3     0.193425  \n",
       "154849          1       3     1.296764  \n",
       "154850          4       3    -1.197742  \n",
       "154851          4       3    -0.046432  \n",
       "\n",
       "[91877 rows x 15 columns]"
      ]
     },
     "execution_count": 8,
     "metadata": {},
     "output_type": "execute_result"
    }
   ],
   "source": [
    "data"
   ]
  },
  {
   "cell_type": "code",
   "execution_count": 9,
   "id": "03af1d0d",
   "metadata": {},
   "outputs": [
    {
     "data": {
      "text/plain": [
       "User uuid                 1057\n",
       "Likes                    30890\n",
       "Days passed from post      367\n",
       "Numer of Tags               31\n",
       "Numer of Comments         4825\n",
       "Year                         1\n",
       "Month                       12\n",
       "Day                         31\n",
       "Hour                        24\n",
       "Minute                      60\n",
       "dayOfWeek                    7\n",
       "quarter                      4\n",
       "timeOfDay                    6\n",
       "Season                       4\n",
       "Likes Score                101\n",
       "dtype: int64"
      ]
     },
     "execution_count": 9,
     "metadata": {},
     "output_type": "execute_result"
    }
   ],
   "source": [
    "data.nunique()"
   ]
  },
  {
   "cell_type": "markdown",
   "id": "27ac79d5",
   "metadata": {},
   "source": [
    "### Removing columns that are not inputs"
   ]
  },
  {
   "cell_type": "code",
   "execution_count": 5,
   "id": "2ee020d8",
   "metadata": {},
   "outputs": [],
   "source": [
    "data2=data.drop(['User uuid', 'Days passed from post', 'Numer of Comments', 'quarter', 'Minute', 'Season', 'Likes', 'Year', 'Numer of Tags', 'Day', 'timeOfDay'], axis=1)"
   ]
  },
  {
   "cell_type": "code",
   "execution_count": 6,
   "id": "74aebb94",
   "metadata": {
    "scrolled": false
   },
   "outputs": [
    {
     "data": {
      "text/html": [
       "<div>\n",
       "<style scoped>\n",
       "    .dataframe tbody tr th:only-of-type {\n",
       "        vertical-align: middle;\n",
       "    }\n",
       "\n",
       "    .dataframe tbody tr th {\n",
       "        vertical-align: top;\n",
       "    }\n",
       "\n",
       "    .dataframe thead th {\n",
       "        text-align: right;\n",
       "    }\n",
       "</style>\n",
       "<table border=\"1\" class=\"dataframe\">\n",
       "  <thead>\n",
       "    <tr style=\"text-align: right;\">\n",
       "      <th></th>\n",
       "      <th>Month</th>\n",
       "      <th>Hour</th>\n",
       "      <th>dayOfWeek</th>\n",
       "      <th>Likes Score</th>\n",
       "    </tr>\n",
       "  </thead>\n",
       "  <tbody>\n",
       "    <tr>\n",
       "      <th>186</th>\n",
       "      <td>1</td>\n",
       "      <td>22</td>\n",
       "      <td>3</td>\n",
       "      <td>2.735901</td>\n",
       "    </tr>\n",
       "    <tr>\n",
       "      <th>187</th>\n",
       "      <td>1</td>\n",
       "      <td>18</td>\n",
       "      <td>3</td>\n",
       "      <td>2.927786</td>\n",
       "    </tr>\n",
       "    <tr>\n",
       "      <th>188</th>\n",
       "      <td>1</td>\n",
       "      <td>23</td>\n",
       "      <td>2</td>\n",
       "      <td>2.735901</td>\n",
       "    </tr>\n",
       "    <tr>\n",
       "      <th>189</th>\n",
       "      <td>1</td>\n",
       "      <td>22</td>\n",
       "      <td>2</td>\n",
       "      <td>3.263585</td>\n",
       "    </tr>\n",
       "    <tr>\n",
       "      <th>190</th>\n",
       "      <td>1</td>\n",
       "      <td>19</td>\n",
       "      <td>4</td>\n",
       "      <td>2.591987</td>\n",
       "    </tr>\n",
       "    <tr>\n",
       "      <th>...</th>\n",
       "      <td>...</td>\n",
       "      <td>...</td>\n",
       "      <td>...</td>\n",
       "      <td>...</td>\n",
       "    </tr>\n",
       "    <tr>\n",
       "      <th>154847</th>\n",
       "      <td>3</td>\n",
       "      <td>6</td>\n",
       "      <td>4</td>\n",
       "      <td>-0.957885</td>\n",
       "    </tr>\n",
       "    <tr>\n",
       "      <th>154848</th>\n",
       "      <td>3</td>\n",
       "      <td>1</td>\n",
       "      <td>5</td>\n",
       "      <td>0.193425</td>\n",
       "    </tr>\n",
       "    <tr>\n",
       "      <th>154849</th>\n",
       "      <td>3</td>\n",
       "      <td>6</td>\n",
       "      <td>0</td>\n",
       "      <td>1.296764</td>\n",
       "    </tr>\n",
       "    <tr>\n",
       "      <th>154850</th>\n",
       "      <td>4</td>\n",
       "      <td>7</td>\n",
       "      <td>6</td>\n",
       "      <td>-1.197742</td>\n",
       "    </tr>\n",
       "    <tr>\n",
       "      <th>154851</th>\n",
       "      <td>4</td>\n",
       "      <td>7</td>\n",
       "      <td>6</td>\n",
       "      <td>-0.046432</td>\n",
       "    </tr>\n",
       "  </tbody>\n",
       "</table>\n",
       "<p>91877 rows × 4 columns</p>\n",
       "</div>"
      ],
      "text/plain": [
       "        Month  Hour  dayOfWeek  Likes Score\n",
       "186         1    22          3     2.735901\n",
       "187         1    18          3     2.927786\n",
       "188         1    23          2     2.735901\n",
       "189         1    22          2     3.263585\n",
       "190         1    19          4     2.591987\n",
       "...       ...   ...        ...          ...\n",
       "154847      3     6          4    -0.957885\n",
       "154848      3     1          5     0.193425\n",
       "154849      3     6          0     1.296764\n",
       "154850      4     7          6    -1.197742\n",
       "154851      4     7          6    -0.046432\n",
       "\n",
       "[91877 rows x 4 columns]"
      ]
     },
     "execution_count": 6,
     "metadata": {},
     "output_type": "execute_result"
    }
   ],
   "source": [
    "data2"
   ]
  },
  {
   "cell_type": "code",
   "execution_count": 7,
   "id": "0bf09e53",
   "metadata": {},
   "outputs": [
    {
     "data": {
      "text/plain": [
       "6"
      ]
     },
     "execution_count": 7,
     "metadata": {},
     "output_type": "execute_result"
    }
   ],
   "source": [
    "max(data2['dayOfWeek'])"
   ]
  },
  {
   "cell_type": "code",
   "execution_count": 8,
   "id": "015b8880",
   "metadata": {},
   "outputs": [],
   "source": [
    "file_path = \"C:/Users/amala/Desktop/instagram_data4.csv\"\n",
    "data2.to_csv(file_path, index=False)"
   ]
  },
  {
   "cell_type": "code",
   "execution_count": 9,
   "id": "8afffdd4",
   "metadata": {},
   "outputs": [],
   "source": [
    "data2=data.drop(['User uuid', 'Days passed from post', 'Numer of Comments', 'quarter', 'Minute', 'Season', 'Likes', 'Year', 'Numer of Tags', 'Day', 'timeOfDay'], axis=1)"
   ]
  },
  {
   "cell_type": "code",
   "execution_count": 10,
   "id": "99841497",
   "metadata": {},
   "outputs": [],
   "source": [
    "def LikeScore(n):\n",
    "    if -2 <= n < -0.75:\n",
    "        return 'Low Like Score'\n",
    "    elif -0.75 <= n < 0.5:\n",
    "        return 'Average Like Score'\n",
    "    elif 0.5 <= n < 5:\n",
    "        return 'High Like Score'"
   ]
  },
  {
   "cell_type": "code",
   "execution_count": 11,
   "id": "30a66f37",
   "metadata": {},
   "outputs": [],
   "source": [
    "data2['Likes Score']= data2['Likes Score'].apply(lambda x:LikeScore(x))"
   ]
  },
  {
   "cell_type": "code",
   "execution_count": 12,
   "id": "0a05c4c9",
   "metadata": {},
   "outputs": [
    {
     "data": {
      "image/png": "[encoded data removed]",
      "text/plain": [
       "<Figure size 432x288 with 1 Axes>"
      ]
     },
     "metadata": {
      "needs_background": "light"
     },
     "output_type": "display_data"
    }
   ],
   "source": [
    "plt.hist(data2['Likes Score'])\n",
    "plt.show()"
   ]
  },
  {
   "cell_type": "code",
   "execution_count": 18,
   "id": "a26f0ba4",
   "metadata": {},
   "outputs": [
    {
     "data": {
      "text/plain": [
       "Month          0\n",
       "Hour           0\n",
       "dayOfWeek      0\n",
       "Likes Score    0\n",
       "dtype: int64"
      ]
     },
     "execution_count": 18,
     "metadata": {},
     "output_type": "execute_result"
    }
   ],
   "source": [
    "data2.isna().sum()"
   ]
  },
  {
   "cell_type": "code",
   "execution_count": 28,
   "id": "4ad30fd6",
   "metadata": {},
   "outputs": [],
   "source": [
    "from sklearn.preprocessing import LabelEncoder\n",
    "\n",
    "encoder = LabelEncoder()\n",
    "data2['Likes Score'] = encoder.fit_transform(data2['Likes Score'])"
   ]
  },
  {
   "cell_type": "code",
   "execution_count": 29,
   "id": "a4155f2a",
   "metadata": {},
   "outputs": [
    {
     "data": {
      "text/html": [
       "<div>\n",
       "<style scoped>\n",
       "    .dataframe tbody tr th:only-of-type {\n",
       "        vertical-align: middle;\n",
       "    }\n",
       "\n",
       "    .dataframe tbody tr th {\n",
       "        vertical-align: top;\n",
       "    }\n",
       "\n",
       "    .dataframe thead th {\n",
       "        text-align: right;\n",
       "    }\n",
       "</style>\n",
       "<table border=\"1\" class=\"dataframe\">\n",
       "  <thead>\n",
       "    <tr style=\"text-align: right;\">\n",
       "      <th></th>\n",
       "      <th>Month</th>\n",
       "      <th>Hour</th>\n",
       "      <th>dayOfWeek</th>\n",
       "      <th>Likes Score</th>\n",
       "    </tr>\n",
       "  </thead>\n",
       "  <tbody>\n",
       "    <tr>\n",
       "      <th>186</th>\n",
       "      <td>1</td>\n",
       "      <td>22</td>\n",
       "      <td>3</td>\n",
       "      <td>1</td>\n",
       "    </tr>\n",
       "    <tr>\n",
       "      <th>187</th>\n",
       "      <td>1</td>\n",
       "      <td>18</td>\n",
       "      <td>3</td>\n",
       "      <td>1</td>\n",
       "    </tr>\n",
       "    <tr>\n",
       "      <th>188</th>\n",
       "      <td>1</td>\n",
       "      <td>23</td>\n",
       "      <td>2</td>\n",
       "      <td>1</td>\n",
       "    </tr>\n",
       "    <tr>\n",
       "      <th>189</th>\n",
       "      <td>1</td>\n",
       "      <td>22</td>\n",
       "      <td>2</td>\n",
       "      <td>1</td>\n",
       "    </tr>\n",
       "    <tr>\n",
       "      <th>190</th>\n",
       "      <td>1</td>\n",
       "      <td>19</td>\n",
       "      <td>4</td>\n",
       "      <td>1</td>\n",
       "    </tr>\n",
       "    <tr>\n",
       "      <th>...</th>\n",
       "      <td>...</td>\n",
       "      <td>...</td>\n",
       "      <td>...</td>\n",
       "      <td>...</td>\n",
       "    </tr>\n",
       "    <tr>\n",
       "      <th>154847</th>\n",
       "      <td>3</td>\n",
       "      <td>6</td>\n",
       "      <td>4</td>\n",
       "      <td>2</td>\n",
       "    </tr>\n",
       "    <tr>\n",
       "      <th>154848</th>\n",
       "      <td>3</td>\n",
       "      <td>1</td>\n",
       "      <td>5</td>\n",
       "      <td>0</td>\n",
       "    </tr>\n",
       "    <tr>\n",
       "      <th>154849</th>\n",
       "      <td>3</td>\n",
       "      <td>6</td>\n",
       "      <td>0</td>\n",
       "      <td>1</td>\n",
       "    </tr>\n",
       "    <tr>\n",
       "      <th>154850</th>\n",
       "      <td>4</td>\n",
       "      <td>7</td>\n",
       "      <td>6</td>\n",
       "      <td>2</td>\n",
       "    </tr>\n",
       "    <tr>\n",
       "      <th>154851</th>\n",
       "      <td>4</td>\n",
       "      <td>7</td>\n",
       "      <td>6</td>\n",
       "      <td>0</td>\n",
       "    </tr>\n",
       "  </tbody>\n",
       "</table>\n",
       "<p>91877 rows × 4 columns</p>\n",
       "</div>"
      ],
      "text/plain": [
       "        Month  Hour  dayOfWeek  Likes Score\n",
       "186         1    22          3            1\n",
       "187         1    18          3            1\n",
       "188         1    23          2            1\n",
       "189         1    22          2            1\n",
       "190         1    19          4            1\n",
       "...       ...   ...        ...          ...\n",
       "154847      3     6          4            2\n",
       "154848      3     1          5            0\n",
       "154849      3     6          0            1\n",
       "154850      4     7          6            2\n",
       "154851      4     7          6            0\n",
       "\n",
       "[91877 rows x 4 columns]"
      ]
     },
     "execution_count": 29,
     "metadata": {},
     "output_type": "execute_result"
    }
   ],
   "source": [
    "data2"
   ]
  },
  {
   "cell_type": "code",
   "execution_count": 30,
   "id": "4c7a0c6b",
   "metadata": {},
   "outputs": [
    {
     "data": {
      "image/png": "[encoded data removed]",
      "text/plain": [
       "<Figure size 432x288 with 1 Axes>"
      ]
     },
     "metadata": {
      "needs_background": "light"
     },
     "output_type": "display_data"
    }
   ],
   "source": [
    "plt.hist(data2['Likes Score'])\n",
    "plt.show()"
   ]
  },
  {
   "cell_type": "code",
   "execution_count": 31,
   "id": "c41c34a3",
   "metadata": {},
   "outputs": [],
   "source": [
    "data3=data2"
   ]
  },
  {
   "cell_type": "code",
   "execution_count": 32,
   "id": "08387a01",
   "metadata": {},
   "outputs": [],
   "source": [
    "data2=data3"
   ]
  },
  {
   "cell_type": "code",
   "execution_count": 33,
   "id": "833b7a74",
   "metadata": {},
   "outputs": [],
   "source": [
    "data2 = data2[data2['Likes Score'] !=0 ]"
   ]
  },
  {
   "cell_type": "code",
   "execution_count": 34,
   "id": "d84ee831",
   "metadata": {},
   "outputs": [],
   "source": [
    "X= data2.drop('Likes Score', axis=1)"
   ]
  },
  {
   "cell_type": "code",
   "execution_count": 35,
   "id": "11b84f6e",
   "metadata": {},
   "outputs": [],
   "source": [
    "y= data2['Likes Score']"
   ]
  },
  {
   "cell_type": "code",
   "execution_count": 36,
   "id": "1ef66c46",
   "metadata": {},
   "outputs": [],
   "source": [
    "from sklearn.model_selection import train_test_split\n",
    "X_train, X_test, y_train, y_test= train_test_split(X,y, test_size=0.2, random_state=42)"
   ]
  },
  {
   "cell_type": "code",
   "execution_count": 37,
   "id": "e1c8c57e",
   "metadata": {
    "scrolled": false
   },
   "outputs": [
    {
     "data": {
      "image/png": "[encoded data removed]",
      "text/plain": [
       "<Figure size 432x288 with 1 Axes>"
      ]
     },
     "metadata": {
      "needs_background": "light"
     },
     "output_type": "display_data"
    }
   ],
   "source": [
    "plt.hist(y)\n",
    "plt.show()"
   ]
  },
  {
   "cell_type": "markdown",
   "id": "437ecc37",
   "metadata": {},
   "source": [
    "### Logistic Regression"
   ]
  },
  {
   "cell_type": "code",
   "execution_count": 40,
   "id": "c07ee941",
   "metadata": {},
   "outputs": [
    {
     "name": "stdout",
     "output_type": "stream",
     "text": [
      "Accuracy: 0.5172062716351049\n"
     ]
    }
   ],
   "source": [
    "from sklearn.linear_model import LogisticRegression\n",
    "from sklearn.metrics import accuracy_score\n",
    "logreg = LogisticRegression()\n",
    "logreg.fit(X_train, y_train)\n",
    "y_pred = logreg.predict(X_test)\n",
    "accuracy = accuracy_score(y_test, y_pred)\n",
    "print(\"Accuracy:\", accuracy)"
   ]
  },
  {
   "cell_type": "code",
   "execution_count": 41,
   "id": "a2384a88",
   "metadata": {},
   "outputs": [
    {
     "name": "stdout",
     "output_type": "stream",
     "text": [
      "accuracy 0.5172062716351049\n",
      "Precision: 0.5187992722862341\n",
      "Recall: 0.6857715430861724\n",
      "F1-Score: 0.5907129293975489\n"
     ]
    }
   ],
   "source": [
    "print('accuracy',accuracy_score(y_test,y_pred))\n",
    "\n",
    "from sklearn.metrics import precision_score\n",
    "precision = precision_score(y_test, y_pred)\n",
    "\n",
    "print(\"Precision:\", precision)\n",
    "\n",
    "from sklearn.metrics import recall_score, f1_score\n",
    "\n",
    "recall = recall_score(y_test, y_pred)\n",
    "f1 = f1_score(y_test, y_pred)\n",
    "\n",
    "print(\"Recall:\", recall)\n",
    "print(\"F1-Score:\", f1)"
   ]
  },
  {
   "cell_type": "markdown",
   "id": "48427a66",
   "metadata": {},
   "source": [
    "### KNN Classifier"
   ]
  },
  {
   "cell_type": "code",
   "execution_count": 26,
   "id": "f272b892",
   "metadata": {},
   "outputs": [],
   "source": [
    "from sklearn.metrics import accuracy_score\n",
    "from sklearn.neighbors import KNeighborsClassifier"
   ]
  },
  {
   "cell_type": "code",
   "execution_count": 51,
   "id": "f555fa59",
   "metadata": {
    "scrolled": true
   },
   "outputs": [
    {
     "data": {
      "image/png": "[encoded data removed]",
      "text/plain": [
       "<Figure size 432x288 with 1 Axes>"
      ]
     },
     "metadata": {
      "needs_background": "light"
     },
     "output_type": "display_data"
    }
   ],
   "source": [
    "metric_k = []\n",
    "neighbors = np.arange(1,20)\n",
    "\n",
    "for k in neighbors:\n",
    "    classifier = KNeighborsClassifier(n_neighbors=k)\n",
    "    classifier.fit(X_train, y_train)\n",
    "    y_pred = classifier.predict(X_test)\n",
    "    acc = accuracy_score(y_test, y_pred)\n",
    "    metric_k.append(acc)\n",
    "\n",
    "plt.plot(neighbors,metric_k, 'o-')\n",
    "plt.title('kNN Accuracy plot')\n",
    "plt.xlabel('K value')\n",
    "plt.ylabel('Accuracy')\n",
    "plt.show()"
   ]
  },
  {
   "cell_type": "code",
   "execution_count": 66,
   "id": "eb2a4abc",
   "metadata": {},
   "outputs": [
    {
     "data": {
      "image/png": "[encoded data removed]",
      "text/plain": [
       "<Figure size 432x288 with 1 Axes>"
      ]
     },
     "metadata": {
      "needs_background": "light"
     },
     "output_type": "display_data"
    }
   ],
   "source": [
    "metric_k = []\n",
    "neighbors = np.arange(30, 70)\n",
    "\n",
    "for k in neighbors:\n",
    "    classifier = KNeighborsClassifier(n_neighbors=k)\n",
    "    classifier.fit(X_train, y_train)\n",
    "    y_pred = classifier.predict(X_test)\n",
    "    acc = accuracy_score(y_test, y_pred)\n",
    "    metric_k.append(acc)\n",
    "\n",
    "plt.plot(neighbors,metric_k, 'o-')\n",
    "plt.title('kNN Accuracy plot')\n",
    "plt.xlabel('K value')\n",
    "plt.ylabel('Accuracy')\n",
    "plt.show()"
   ]
  },
  {
   "cell_type": "code",
   "execution_count": 72,
   "id": "2b31309b",
   "metadata": {},
   "outputs": [
    {
     "data": {
      "image/png": "[encoded data removed]",
      "text/plain": [
       "<Figure size 432x288 with 1 Axes>"
      ]
     },
     "metadata": {
      "needs_background": "light"
     },
     "output_type": "display_data"
    }
   ],
   "source": [
    "metric_k = []\n",
    "neighbors = np.arange(70, 110)\n",
    "\n",
    "for k in neighbors:\n",
    "    classifier = KNeighborsClassifier(n_neighbors=k)\n",
    "    classifier.fit(X_train, y_train)\n",
    "    y_pred = classifier.predict(X_test)\n",
    "    acc = accuracy_score(y_test, y_pred)\n",
    "    metric_k.append(acc)\n",
    "\n",
    "plt.plot(neighbors,metric_k, 'o-')\n",
    "plt.title('kNN Accuracy plot')\n",
    "plt.xlabel('K value')\n",
    "plt.ylabel('Accuracy')\n",
    "plt.show()"
   ]
  },
  {
   "cell_type": "code",
   "execution_count": 91,
   "id": "dc763185",
   "metadata": {},
   "outputs": [
    {
     "data": {
      "image/png": "[encoded data removed]",
      "text/plain": [
       "<Figure size 432x288 with 1 Axes>"
      ]
     },
     "metadata": {
      "needs_background": "light"
     },
     "output_type": "display_data"
    }
   ],
   "source": [
    "metric_k = []\n",
    "neighbors = np.arange(110, 200)\n",
    "\n",
    "for k in neighbors:\n",
    "    classifier = KNeighborsClassifier(n_neighbors=k)\n",
    "    classifier.fit(X_train, y_train)\n",
    "    y_pred = classifier.predict(X_test)\n",
    "    acc = accuracy_score(y_test, y_pred)\n",
    "    metric_k.append(acc)\n",
    "\n",
    "plt.plot(neighbors,metric_k, 'o-')\n",
    "plt.title('kNN Accuracy plot')\n",
    "plt.xlabel('K value')\n",
    "plt.ylabel('Accuracy')\n",
    "plt.show()"
   ]
  },
  {
   "cell_type": "code",
   "execution_count": 73,
   "id": "4312be1f",
   "metadata": {},
   "outputs": [
    {
     "data": {
      "text/plain": [
       "0.5540623091020159"
      ]
     },
     "execution_count": 73,
     "metadata": {},
     "output_type": "execute_result"
    }
   ],
   "source": [
    "max(metric_k)"
   ]
  },
  {
   "cell_type": "code",
   "execution_count": 74,
   "id": "b1fde2be",
   "metadata": {},
   "outputs": [
    {
     "data": {
      "text/plain": [
       "[(0, 0.5463245774791284),\n",
       " (1, 0.546731826511912),\n",
       " (2, 0.546731826511912),\n",
       " (3, 0.5484626349012421),\n",
       " (4, 0.5474445123192833),\n",
       " (5, 0.5465282019955202),\n",
       " (6, 0.5478517613520668),\n",
       " (7, 0.5478517613520668),\n",
       " (8, 0.5504988800651598),\n",
       " (9, 0.5509061290979433),\n",
       " (10, 0.5488698839340257),\n",
       " (11, 0.5511097536143351),\n",
       " (12, 0.5516188149053146),\n",
       " (13, 0.5514151903889228),\n",
       " (14, 0.550397067806964),\n",
       " (15, 0.5517206271635104),\n",
       " (16, 0.5511097536143351),\n",
       " (17, 0.5540623091020159),\n",
       " (18, 0.5536550600692324),\n",
       " (19, 0.5511097536143351),\n",
       " (20, 0.5488698839340257),\n",
       " (21, 0.5504988800651598),\n",
       " (22, 0.5498880065159846),\n",
       " (23, 0.547648136835675),\n",
       " (24, 0.5511097536143351),\n",
       " (25, 0.5498880065159846),\n",
       " (26, 0.5493789452250051),\n",
       " (27, 0.5482590103848504),\n",
       " (28, 0.5518224394217064),\n",
       " (29, 0.5512115658725311),\n",
       " (30, 0.5502952555487681),\n",
       " (31, 0.5465282019955202),\n",
       " (32, 0.5484626349012421),\n",
       " (33, 0.5510079413561393),\n",
       " (34, 0.5483608226430462),\n",
       " (35, 0.5492771329668092),\n",
       " (36, 0.5506006923233557),\n",
       " (37, 0.5495825697413969),\n",
       " (38, 0.5501934432905722),\n",
       " (39, 0.5487680716758297)]"
      ]
     },
     "execution_count": 74,
     "metadata": {},
     "output_type": "execute_result"
    }
   ],
   "source": [
    "list(enumerate(metric_k))"
   ]
  },
  {
   "cell_type": "code",
   "execution_count": 39,
   "id": "b5646845",
   "metadata": {},
   "outputs": [
    {
     "data": {
      "text/plain": [
       "0.5540623091020159"
      ]
     },
     "execution_count": 39,
     "metadata": {},
     "output_type": "execute_result"
    }
   ],
   "source": [
    "from sklearn.neighbors import KNeighborsClassifier\n",
    "classifier = KNeighborsClassifier(n_neighbors=87)\n",
    "classifier.fit(X_train, y_train)\n",
    "y_pred = classifier.predict(X_test)\n",
    "accuracy_score(y_test, y_pred)"
   ]
  },
  {
   "cell_type": "markdown",
   "id": "80474adb",
   "metadata": {},
   "source": [
    "### DecisionTree"
   ]
  },
  {
   "cell_type": "code",
   "execution_count": 53,
   "id": "e4201f09",
   "metadata": {},
   "outputs": [
    {
     "data": {
      "text/plain": [
       "0.5272856851964977"
      ]
     },
     "execution_count": 53,
     "metadata": {},
     "output_type": "execute_result"
    }
   ],
   "source": [
    "from sklearn.tree import DecisionTreeClassifier\n",
    "dt= DecisionTreeClassifier()\n",
    "dt.fit(X_train,y_train)\n",
    "y_pred =dt.predict(X_test)\n",
    "accuracy_score(y_test,y_pred)"
   ]
  },
  {
   "cell_type": "markdown",
   "id": "f62cb26a",
   "metadata": {},
   "source": [
    "###  RandomForest"
   ]
  },
  {
   "cell_type": "code",
   "execution_count": 56,
   "id": "6301649c",
   "metadata": {},
   "outputs": [
    {
     "data": {
      "text/plain": [
       "0.5238240684178375"
      ]
     },
     "execution_count": 56,
     "metadata": {},
     "output_type": "execute_result"
    }
   ],
   "source": [
    "from sklearn.ensemble import RandomForestClassifier\n",
    "rfclf= RandomForestClassifier()\n",
    "rfclf.fit(X_train,y_train)\n",
    "y_pred= rfclf.predict(X_test)\n",
    "accuracy_score(y_test,y_pred)"
   ]
  },
  {
   "cell_type": "markdown",
   "id": "463f8349",
   "metadata": {},
   "source": [
    "### SVC"
   ]
  },
  {
   "cell_type": "code",
   "execution_count": 58,
   "id": "39247a60",
   "metadata": {},
   "outputs": [
    {
     "data": {
      "text/plain": [
       "0.5236204439014457"
      ]
     },
     "execution_count": 58,
     "metadata": {},
     "output_type": "execute_result"
    }
   ],
   "source": [
    "from sklearn.svm import SVC\n",
    "svmclf= SVC(kernel='linear')\n",
    "model = svmclf.fit(X_train, y_train)\n",
    "y_pred = svmclf.predict(X_test)\n",
    "accuracy_score(y_test,y_pred)"
   ]
  },
  {
   "cell_type": "code",
   "execution_count": 23,
   "id": "a90b010b",
   "metadata": {},
   "outputs": [
    {
     "ename": "NameError",
     "evalue": "name 'y_pred' is not defined",
     "output_type": "error",
     "traceback": [
      "\u001b[1;31m---------------------------------------------------------------------------\u001b[0m",
      "\u001b[1;31mNameError\u001b[0m                                 Traceback (most recent call last)",
      "\u001b[1;32m~\\AppData\\Local\\Temp/ipykernel_8700/126353584.py\u001b[0m in \u001b[0;36m<module>\u001b[1;34m\u001b[0m\n\u001b[0;32m      1\u001b[0m \u001b[1;32mfrom\u001b[0m \u001b[0msklearn\u001b[0m\u001b[1;33m.\u001b[0m\u001b[0mmetrics\u001b[0m \u001b[1;32mimport\u001b[0m \u001b[0mconfusion_matrix\u001b[0m\u001b[1;33m\u001b[0m\u001b[1;33m\u001b[0m\u001b[0m\n\u001b[1;32m----> 2\u001b[1;33m \u001b[0mconf_matrix\u001b[0m\u001b[1;33m=\u001b[0m \u001b[0mconfusion_matrix\u001b[0m\u001b[1;33m(\u001b[0m\u001b[0my_test\u001b[0m\u001b[1;33m,\u001b[0m \u001b[0my_pred\u001b[0m\u001b[1;33m)\u001b[0m\u001b[1;33m\u001b[0m\u001b[1;33m\u001b[0m\u001b[0m\n\u001b[0m",
      "\u001b[1;31mNameError\u001b[0m: name 'y_pred' is not defined"
     ]
    }
   ],
   "source": [
    "from sklearn.metrics import confusion_matrix\n",
    "conf_matrix= confusion_matrix(y_test, y_pred)"
   ]
  },
  {
   "cell_type": "code",
   "execution_count": 24,
   "id": "b1a82316",
   "metadata": {},
   "outputs": [],
   "source": [
    "from sklearn.svm import SVC\n",
    "svmclf= SVC(kernel='rbf')\n",
    "model2 = svmclf.fit(X_train, y_train)\n"
   ]
  },
  {
   "cell_type": "code",
   "execution_count": 35,
   "id": "3a8bd4c9",
   "metadata": {},
   "outputs": [
    {
     "data": {
      "text/plain": [
       "0.5456118916717573"
      ]
     },
     "execution_count": 35,
     "metadata": {},
     "output_type": "execute_result"
    }
   ],
   "source": [
    "y_pred = model2.predict(X_test)\n",
    "accuracy_score(y_test,y_pred)"
   ]
  },
  {
   "cell_type": "code",
   "execution_count": 38,
   "id": "d0d19019",
   "metadata": {},
   "outputs": [
    {
     "name": "stdout",
     "output_type": "stream",
     "text": [
      "Precision: 0.5488415199258573\n"
     ]
    }
   ],
   "source": [
    "from sklearn.metrics import precision_score\n",
    "precision = precision_score(y_test, y_pred)\n",
    "\n",
    "print(\"Precision:\", precision)"
   ]
  },
  {
   "cell_type": "code",
   "execution_count": 39,
   "id": "b2513f23",
   "metadata": {},
   "outputs": [
    {
     "name": "stdout",
     "output_type": "stream",
     "text": [
      "Recall: 0.5933867735470942\n",
      "F1-Score: 0.5702455464612421\n"
     ]
    }
   ],
   "source": [
    "from sklearn.metrics import recall_score, f1_score\n",
    "\n",
    "recall = recall_score(y_test, y_pred)\n",
    "f1 = f1_score(y_test, y_pred)\n",
    "\n",
    "print(\"Recall:\", recall)\n",
    "print(\"F1-Score:\", f1)"
   ]
  },
  {
   "cell_type": "code",
   "execution_count": 28,
   "id": "85c27da3",
   "metadata": {},
   "outputs": [],
   "source": [
    "from sklearn.svm import SVC\n",
    "svmclf= SVC(kernel='poly')\n",
    "model3 = svmclf.fit(X_train, y_train)\n",
    "y_pred = svmclf.predict(X_test)"
   ]
  },
  {
   "cell_type": "code",
   "execution_count": 29,
   "id": "e035f963",
   "metadata": {},
   "outputs": [
    {
     "data": {
      "text/plain": [
       "0.5207697006719609"
      ]
     },
     "execution_count": 29,
     "metadata": {},
     "output_type": "execute_result"
    }
   ],
   "source": [
    "y_pred = model3.predict(X_test)\n",
    "accuracy_score(y_test,y_pred)"
   ]
  },
  {
   "cell_type": "markdown",
   "id": "42cc947c",
   "metadata": {},
   "source": [
    "### Hyperparameter Tuning"
   ]
  },
  {
   "cell_type": "code",
   "execution_count": 31,
   "id": "13ec0160",
   "metadata": {},
   "outputs": [
    {
     "name": "stdout",
     "output_type": "stream",
     "text": [
      "Best Hyperparameters:  {'max_depth': 2, 'max_features': None, 'min_samples_leaf': 3, 'min_samples_split': 3}\n",
      "Best Score:  0.46512292328672167\n"
     ]
    }
   ],
   "source": [
    "from sklearn.model_selection import RandomizedSearchCV\n",
    "from sklearn.tree import DecisionTreeClassifier\n",
    "from scipy.stats import randint\n",
    "\n",
    "# Define the hyperparameter search space\n",
    "param_dist = {\n",
    "    'max_depth': randint(1, 10),\n",
    "    'min_samples_split': randint(2, 10),\n",
    "    'min_samples_leaf': randint(1, 5),\n",
    "    'max_features': ['sqrt', 'log2', None]\n",
    "}\n",
    "\n",
    "# Create a Decision Tree classifier\n",
    "dt = DecisionTreeClassifier()\n",
    "\n",
    "# Perform random search\n",
    "random_search = RandomizedSearchCV(\n",
    "    dt, param_distributions=param_dist, n_iter=10, cv=5\n",
    ")\n",
    "\n",
    "# Fit the random search to find the best hyperparameters\n",
    "random_search.fit(X_train, y_train)\n",
    "\n",
    "# Print the best hyperparameters and the associated score\n",
    "print(\"Best Hyperparameters: \", random_search.best_params_)\n",
    "print(\"Best Score: \", random_search.best_score_)"
   ]
  },
  {
   "cell_type": "code",
   "execution_count": 87,
   "id": "2a4bf051",
   "metadata": {},
   "outputs": [
    {
     "name": "stderr",
     "output_type": "stream",
     "text": [
      "C:\\Users\\amala\\anaconda3\\lib\\site-packages\\sklearn\\model_selection\\_search.py:307: UserWarning: The total space of parameters 4 is smaller than n_iter=10. Running 4 iterations. For exhaustive searches, use GridSearchCV.\n",
      "  warnings.warn(\n"
     ]
    },
    {
     "name": "stdout",
     "output_type": "stream",
     "text": [
      "Best Hyperparameters:  {'weights': 'uniform', 'p': 1, 'n_neighbors': 87}\n",
      "Best Score:  0.546044792845698\n"
     ]
    }
   ],
   "source": [
    "from sklearn.model_selection import RandomizedSearchCV\n",
    "from sklearn.neighbors import KNeighborsClassifier\n",
    "from scipy.stats import randint\n",
    "\n",
    "# Define the hyperparameter search space for KNN\n",
    "param_dist = {\n",
    "    'n_neighbors': [87],  # Adjust the range as needed\n",
    "    'weights': ['uniform', 'distance'],\n",
    "    'p': [1, 2]  # 1 for Manhattan distance, 2 for Euclidean distance\n",
    "}\n",
    "\n",
    "# Create a KNN classifier\n",
    "knn = KNeighborsClassifier()\n",
    "\n",
    "# Perform random search\n",
    "random_search_knn = RandomizedSearchCV(\n",
    "    knn, param_distributions=param_dist, n_iter=10, cv=5\n",
    ")\n",
    "\n",
    "# Fit the random search to find the best hyperparameters\n",
    "random_search_knn.fit(X_train, y_train)\n",
    "\n",
    "# Print the best hyperparameters and the associated score\n",
    "print(\"Best Hyperparameters: \", random_search_knn.best_params_)\n",
    "print(\"Best Score: \", random_search_knn.best_score_)"
   ]
  },
  {
   "cell_type": "code",
   "execution_count": 30,
   "id": "08b4565d",
   "metadata": {},
   "outputs": [
    {
     "name": "stdout",
     "output_type": "stream",
     "text": [
      "Best Hyperparameters:  {'C': 0.76499219757677, 'gamma': 0.2200597411653504}\n",
      "Best Score:  0.550778906084463\n"
     ]
    }
   ],
   "source": [
    "from sklearn.model_selection import RandomizedSearchCV\n",
    "from sklearn.svm import SVC\n",
    "from scipy.stats import expon, randint\n",
    "\n",
    "# Define the hyperparameter search space for SVM with RBF kernel\n",
    "param_dist = {\n",
    "    'C': expon(scale=1),  # C is typically searched on a logarithmic scale\n",
    "    'gamma': expon(scale=0.1),  # gamma is also searched on a logarithmic scale\n",
    "}\n",
    "\n",
    "# Create an SVM classifier with RBF kernel\n",
    "svm_rbf = SVC(kernel='rbf')\n",
    "\n",
    "# Perform random search\n",
    "random_search_svm_rbf = RandomizedSearchCV(\n",
    "    svm_rbf, param_distributions=param_dist, n_iter=10, cv=5\n",
    ")\n",
    "\n",
    "# Fit the random search to find the best hyperparameters\n",
    "random_search_svm_rbf.fit(X_train, y_train)\n",
    "\n",
    "# Print the best hyperparameters and the associated score\n",
    "print(\"Best Hyperparameters: \", random_search_svm_rbf.best_params_)\n",
    "print(\"Best Score: \", random_search_svm_rbf.best_score_)"
   ]
  },
  {
   "cell_type": "code",
   "execution_count": 40,
   "id": "aefe3972",
   "metadata": {},
   "outputs": [],
   "source": [
    "best_random= random_search_svm_rbf.best_estimator_\n",
    "y_pred = best_random.predict(X_test)"
   ]
  },
  {
   "cell_type": "code",
   "execution_count": 41,
   "id": "282cf32d",
   "metadata": {},
   "outputs": [
    {
     "name": "stdout",
     "output_type": "stream",
     "text": [
      "Precision: 0.5494113449875134\n"
     ]
    }
   ],
   "source": [
    "from sklearn.metrics import precision_score\n",
    "precision = precision_score(y_test, y_pred)\n",
    "\n",
    "print(\"Precision:\", precision)"
   ]
  },
  {
   "cell_type": "code",
   "execution_count": 42,
   "id": "1ef3779b",
   "metadata": {},
   "outputs": [
    {
     "name": "stdout",
     "output_type": "stream",
     "text": [
      "Recall: 0.6172344689378757\n",
      "F1-Score: 0.5813514533786334\n"
     ]
    }
   ],
   "source": [
    "from sklearn.metrics import recall_score, f1_score\n",
    "\n",
    "recall = recall_score(y_test, y_pred)\n",
    "f1 = f1_score(y_test, y_pred)\n",
    "\n",
    "print(\"Recall:\", recall)\n",
    "print(\"F1-Score:\", f1)"
   ]
  },
  {
   "cell_type": "code",
   "execution_count": 43,
   "id": "87087c8a",
   "metadata": {},
   "outputs": [
    {
     "name": "stdout",
     "output_type": "stream",
     "text": [
      "Best Hyperparameters:  {'C': 10, 'gamma': 0.1}\n",
      "Best Score:  0.5487681288784024\n"
     ]
    }
   ],
   "source": [
    "from sklearn.model_selection import GridSearchCV\n",
    "from sklearn.svm import SVC\n",
    "\n",
    "# Define the hyperparameter grid for SVM with RBF kernel\n",
    "param_grid = {\n",
    "    'C': [0.1, 1, 10],\n",
    "    'gamma': [0.1, 1, 10]\n",
    "}\n",
    "\n",
    "# Create an SVM classifier with RBF kernel\n",
    "svm_rbf = SVC(kernel='rbf')\n",
    "\n",
    "# Perform grid search\n",
    "grid_search_svm_rbf = GridSearchCV(\n",
    "    svm_rbf, param_grid=param_grid, cv=5\n",
    ")\n",
    "\n",
    "# Fit the grid search to find the best hyperparameters\n",
    "grid_search_svm_rbf.fit(X_train, y_train)\n",
    "\n",
    "# Print the best hyperparameters and the associated score\n",
    "print(\"Best Hyperparameters: \", grid_search_svm_rbf.best_params_)\n",
    "print(\"Best Score: \", grid_search_svm_rbf.best_score_)"
   ]
  },
  {
   "cell_type": "code",
   "execution_count": 33,
   "id": "6ba12c56",
   "metadata": {
    "scrolled": true
   },
   "outputs": [
    {
     "data": {
      "text/plain": [
       "0.5483608226430462"
      ]
     },
     "execution_count": 33,
     "metadata": {},
     "output_type": "execute_result"
    }
   ],
   "source": [
    "accuracy_score(y_test,y_pred)"
   ]
  },
  {
   "cell_type": "code",
   "execution_count": 68,
   "id": "3422cf46",
   "metadata": {},
   "outputs": [
    {
     "name": "stdout",
     "output_type": "stream",
     "text": [
      "Best Hyperparameters:  {'max_depth': 5, 'max_features': 'log2', 'min_samples_leaf': 2, 'min_samples_split': 5}\n",
      "Best Score:  0.42169494786554856\n"
     ]
    }
   ],
   "source": [
    "from sklearn.model_selection import GridSearchCV\n",
    "from sklearn.tree import DecisionTreeClassifier\n",
    "\n",
    "# Define the hyperparameter search grid\n",
    "param_grid = {\n",
    "    'max_depth': [None, 5, 10, 15],\n",
    "    'min_samples_split': [2, 5, 10],\n",
    "    'min_samples_leaf': [1, 2, 4],\n",
    "    'max_features': ['sqrt', 'log2', None]\n",
    "}\n",
    "\n",
    "# Create a Decision Tree classifier\n",
    "dt = DecisionTreeClassifier()\n",
    "\n",
    "# Perform grid search\n",
    "grid_search = GridSearchCV(\n",
    "    dt, param_grid=param_grid, cv=5\n",
    ")\n",
    "\n",
    "# Fit the grid search to find the best hyperparameters\n",
    "grid_search.fit(X_train, y_train)\n",
    "\n",
    "# Print the best hyperparameters and the associated score\n",
    "print(\"Best Hyperparameters: \", grid_search.best_params_)\n",
    "print(\"Best Score: \", grid_search.best_score_)"
   ]
  },
  {
   "cell_type": "code",
   "execution_count": 45,
   "id": "85b63749",
   "metadata": {},
   "outputs": [],
   "source": [
    "#prediction from grid search, since it is best one\n",
    "best_grid= grid_search_svm_rbf.best_estimator_\n",
    "y_pred= best_grid.predict(X_test)"
   ]
  },
  {
   "cell_type": "code",
   "execution_count": 48,
   "id": "6ff3db5c",
   "metadata": {},
   "outputs": [
    {
     "name": "stdout",
     "output_type": "stream",
     "text": [
      "accuracy 0.544084707798819\n",
      "Precision: 0.5448336252189142\n",
      "Recall: 0.6234468937875751\n",
      "F1-Score: 0.5814953271028037\n"
     ]
    }
   ],
   "source": [
    "print('accuracy',accuracy_score(y_test,y_pred))\n",
    "\n",
    "from sklearn.metrics import precision_score\n",
    "precision = precision_score(y_test, y_pred)\n",
    "\n",
    "print(\"Precision:\", precision)\n",
    "\n",
    "from sklearn.metrics import recall_score, f1_score\n",
    "\n",
    "recall = recall_score(y_test, y_pred)\n",
    "f1 = f1_score(y_test, y_pred)\n",
    "\n",
    "print(\"Recall:\", recall)\n",
    "print(\"F1-Score:\", f1)"
   ]
  },
  {
   "cell_type": "code",
   "execution_count": 36,
   "id": "84e32088",
   "metadata": {},
   "outputs": [],
   "source": [
    "import pickle\n",
    "pickle.dump(classifier, open(\"knnclassifier.pkl\", \"wb\"))"
   ]
  },
  {
   "cell_type": "code",
   "execution_count": 43,
   "id": "6595258d",
   "metadata": {},
   "outputs": [
    {
     "data": {
      "text/plain": [
       "array([[   0,    9,    0,    0, 2091,    5],\n",
       "       [   0,   12,    0,    0, 4896,   12],\n",
       "       [   0,    1,    0,    0,  241,    0],\n",
       "       [   0,    3,    0,    0,  705,    1],\n",
       "       [   0,   10,    0,    0, 7791,   15],\n",
       "       [   0,    7,    0,    0, 2550,   27]], dtype=int64)"
      ]
     },
     "execution_count": 43,
     "metadata": {},
     "output_type": "execute_result"
    }
   ],
   "source": [
    "from sklearn.metrics import confusion_matrix\n",
    "confusion_matrix(y_test, y_pred)"
   ]
  },
  {
   "cell_type": "code",
   "execution_count": 44,
   "id": "d02df483",
   "metadata": {},
   "outputs": [
    {
     "data": {
      "text/plain": [
       "array([4, 4, 4, ..., 4, 4, 4])"
      ]
     },
     "execution_count": 44,
     "metadata": {},
     "output_type": "execute_result"
    }
   ],
   "source": [
    "y_pred"
   ]
  },
  {
   "cell_type": "code",
   "execution_count": 76,
   "id": "a5e863a7",
   "metadata": {},
   "outputs": [
    {
     "name": "stdout",
     "output_type": "stream",
     "text": [
      "Element: 1, Count: 4990\n",
      "Element: 2, Count: 4832\n"
     ]
    }
   ],
   "source": [
    "#elements of y_test\n",
    "unique_elements, counts = np.unique(y_test, return_counts=True)\n",
    "\n",
    "# Print the unique elements and their counts\n",
    "for element, count in zip(unique_elements, counts):\n",
    "    print(f\"Element: {element}, Count: {count}\")"
   ]
  },
  {
   "cell_type": "code",
   "execution_count": 54,
   "id": "488be405",
   "metadata": {},
   "outputs": [
    {
     "name": "stdout",
     "output_type": "stream",
     "text": [
      "Element: 1, Count: 5609\n",
      "Element: 2, Count: 4213\n"
     ]
    }
   ],
   "source": [
    "#decision tree\n",
    "unique_elements, counts = np.unique(y_pred, return_counts=True)\n",
    "\n",
    "# Print the unique elements and their counts\n",
    "for element, count in zip(unique_elements, counts):\n",
    "    print(f\"Element: {element}, Count: {count}\")"
   ]
  },
  {
   "cell_type": "code",
   "execution_count": 57,
   "id": "795962a7",
   "metadata": {},
   "outputs": [
    {
     "name": "stdout",
     "output_type": "stream",
     "text": [
      "Element: 1, Count: 5297\n",
      "Element: 2, Count: 4525\n"
     ]
    }
   ],
   "source": [
    "#random forest\n",
    "unique_elements, counts = np.unique(y_pred, return_counts=True)\n",
    "\n",
    "# Print the unique elements and their counts\n",
    "for element, count in zip(unique_elements, counts):\n",
    "    print(f\"Element: {element}, Count: {count}\")"
   ]
  },
  {
   "cell_type": "code",
   "execution_count": 59,
   "id": "fd638c41",
   "metadata": {},
   "outputs": [
    {
     "name": "stdout",
     "output_type": "stream",
     "text": [
      "Element: 1, Count: 5143\n",
      "Element: 2, Count: 4679\n"
     ]
    }
   ],
   "source": [
    "#svc linear\n",
    "unique_elements, counts = np.unique(y_pred, return_counts=True)\n",
    "\n",
    "# Print the unique elements and their counts\n",
    "for element, count in zip(unique_elements, counts):\n",
    "    print(f\"Element: {element}, Count: {count}\")"
   ]
  },
  {
   "cell_type": "code",
   "execution_count": 77,
   "id": "5d7ea8f0",
   "metadata": {},
   "outputs": [
    {
     "name": "stdout",
     "output_type": "stream",
     "text": [
      "Element: 1, Count: 5430\n",
      "Element: 2, Count: 4392\n"
     ]
    }
   ],
   "source": [
    "#knn\n",
    "unique_elements, counts = np.unique(y_pred, return_counts=True)\n",
    "\n",
    "# Print the unique elements and their counts\n",
    "for element, count in zip(unique_elements, counts):\n",
    "    print(f\"Element: {element}, Count: {count}\")"
   ]
  },
  {
   "cell_type": "code",
   "execution_count": 33,
   "id": "87475ae7",
   "metadata": {},
   "outputs": [
    {
     "name": "stdout",
     "output_type": "stream",
     "text": [
      "Element: 0, Count: 18376\n"
     ]
    }
   ],
   "source": [
    "#grid search decision tree\n",
    "unique_elements, counts = np.unique(y_pred, return_counts=True)\n",
    "\n",
    "# Print the unique elements and their counts\n",
    "for element, count in zip(unique_elements, counts):\n",
    "    print(f\"Element: {element}, Count: {count}\")"
   ]
  },
  {
   "cell_type": "code",
   "execution_count": 72,
   "id": "5f68df2f",
   "metadata": {},
   "outputs": [
    {
     "name": "stdout",
     "output_type": "stream",
     "text": [
      "Element: 4, Count: 18336\n",
      "Element: 5, Count: 40\n"
     ]
    }
   ],
   "source": [
    "#random search decision tree\n",
    "unique_elements, counts = np.unique(y_pred, return_counts=True)\n",
    "\n",
    "# Print the unique elements and their counts\n",
    "for element, count in zip(unique_elements, counts):\n",
    "    print(f\"Element: {element}, Count: {count}\")"
   ]
  },
  {
   "cell_type": "code",
   "execution_count": 89,
   "id": "5a016645",
   "metadata": {},
   "outputs": [
    {
     "name": "stdout",
     "output_type": "stream",
     "text": [
      "Element: 1, Count: 5323\n",
      "Element: 2, Count: 4499\n"
     ]
    }
   ],
   "source": [
    "#random search knn\n",
    "unique_elements, counts = np.unique(y_pred, return_counts=True)\n",
    "\n",
    "# Print the unique elements and their counts\n",
    "for element, count in zip(unique_elements, counts):\n",
    "    print(f\"Element: {element}, Count: {count}\")"
   ]
  },
  {
   "cell_type": "code",
   "execution_count": 34,
   "id": "e97d1040",
   "metadata": {},
   "outputs": [
    {
     "name": "stdout",
     "output_type": "stream",
     "text": [
      "Element: 1, Count: 5606\n",
      "Element: 2, Count: 4216\n"
     ]
    }
   ],
   "source": [
    "#random search svm rbf\n",
    "unique_elements, counts = np.unique(y_pred, return_counts=True)\n",
    "\n",
    "# Print the unique elements and their counts\n",
    "for element, count in zip(unique_elements, counts):\n",
    "    print(f\"Element: {element}, Count: {count}\")"
   ]
  },
  {
   "cell_type": "code",
   "execution_count": 36,
   "id": "a7d1e507",
   "metadata": {},
   "outputs": [
    {
     "name": "stdout",
     "output_type": "stream",
     "text": [
      "Element: 1, Count: 5395\n",
      "Element: 2, Count: 4427\n"
     ]
    }
   ],
   "source": [
    "#svm rbf\n",
    "unique_elements, counts = np.unique(y_pred, return_counts=True)\n",
    "\n",
    "# Print the unique elements and their counts\n",
    "for element, count in zip(unique_elements, counts):\n",
    "    print(f\"Element: {element}, Count: {count}\")"
   ]
  },
  {
   "cell_type": "code",
   "execution_count": null,
   "id": "e3400837",
   "metadata": {},
   "outputs": [],
   "source": []
  }
 ],
 "metadata": {
  "kernelspec": {
   "display_name": "Python 3 (ipykernel)",
   "language": "python",
   "name": "python3"
  },
  "language_info": {
   "codemirror_mode": {
    "name": "ipython",
    "version": 3
   },
   "file_extension": ".py",
   "mimetype": "text/x-python",
   "name": "python",
   "nbconvert_exporter": "python",
   "pygments_lexer": "ipython3",
   "version": "3.9.7"
  }
 },
 "nbformat": 4,
 "nbformat_minor": 5
}
