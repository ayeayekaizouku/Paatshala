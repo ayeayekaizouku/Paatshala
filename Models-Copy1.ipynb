{
 "cells": [
  {
   "cell_type": "code",
   "execution_count": 1,
   "id": "4ae28672",
   "metadata": {},
   "outputs": [],
   "source": [
    "import pandas as pd\n",
    "import numpy as np\n",
    "import matplotlib.pyplot as plt\n",
    "import seaborn as sns\n",
    "from sklearn.model_selection import train_test_split"
   ]
  },
  {
   "cell_type": "code",
   "execution_count": 2,
   "id": "7e3bac52",
   "metadata": {},
   "outputs": [],
   "source": [
    "data= pd.read_csv('instagram_data3.csv')"
   ]
  },
  {
   "cell_type": "code",
   "execution_count": 3,
   "id": "8b477ade",
   "metadata": {},
   "outputs": [
    {
     "data": {
      "text/plain": [
       "(155004, 15)"
      ]
     },
     "execution_count": 3,
     "metadata": {},
     "output_type": "execute_result"
    }
   ],
   "source": [
    "data.shape"
   ]
  },
  {
   "cell_type": "code",
   "execution_count": 4,
   "id": "b3c12a92",
   "metadata": {},
   "outputs": [
    {
     "name": "stdout",
     "output_type": "stream",
     "text": [
      "<class 'pandas.core.frame.DataFrame'>\n",
      "RangeIndex: 155004 entries, 0 to 155003\n",
      "Data columns (total 15 columns):\n",
      " #   Column                 Non-Null Count   Dtype  \n",
      "---  ------                 --------------   -----  \n",
      " 0   User uuid              155004 non-null  int64  \n",
      " 1   Likes                  155004 non-null  int64  \n",
      " 2   Days passed from post  155004 non-null  int64  \n",
      " 3   Numer of Tags          155004 non-null  int64  \n",
      " 4   Numer of Comments      155004 non-null  int64  \n",
      " 5   Year                   155004 non-null  int64  \n",
      " 6   Month                  155004 non-null  int64  \n",
      " 7   Day                    155004 non-null  int64  \n",
      " 8   Hour                   155004 non-null  int64  \n",
      " 9   Minute                 155004 non-null  int64  \n",
      " 10  dayOfWeek              155004 non-null  int64  \n",
      " 11  quarter                155004 non-null  int64  \n",
      " 12  timeOfDay              155004 non-null  int64  \n",
      " 13  Season                 155004 non-null  int64  \n",
      " 14  Likes Score            155004 non-null  float64\n",
      "dtypes: float64(1), int64(14)\n",
      "memory usage: 17.7 MB\n"
     ]
    }
   ],
   "source": [
    "data.info()"
   ]
  },
  {
   "cell_type": "code",
   "execution_count": 5,
   "id": "bc33efcf",
   "metadata": {},
   "outputs": [
    {
     "data": {
      "text/html": [
       "<div>\n",
       "<style scoped>\n",
       "    .dataframe tbody tr th:only-of-type {\n",
       "        vertical-align: middle;\n",
       "    }\n",
       "\n",
       "    .dataframe tbody tr th {\n",
       "        vertical-align: top;\n",
       "    }\n",
       "\n",
       "    .dataframe thead th {\n",
       "        text-align: right;\n",
       "    }\n",
       "</style>\n",
       "<table border=\"1\" class=\"dataframe\">\n",
       "  <thead>\n",
       "    <tr style=\"text-align: right;\">\n",
       "      <th></th>\n",
       "      <th>User uuid</th>\n",
       "      <th>Likes</th>\n",
       "      <th>Days passed from post</th>\n",
       "      <th>Numer of Tags</th>\n",
       "      <th>Numer of Comments</th>\n",
       "      <th>Year</th>\n",
       "      <th>Month</th>\n",
       "      <th>Day</th>\n",
       "      <th>Hour</th>\n",
       "      <th>Minute</th>\n",
       "      <th>dayOfWeek</th>\n",
       "      <th>quarter</th>\n",
       "      <th>timeOfDay</th>\n",
       "      <th>Season</th>\n",
       "      <th>Likes Score</th>\n",
       "    </tr>\n",
       "  </thead>\n",
       "  <tbody>\n",
       "    <tr>\n",
       "      <th>0</th>\n",
       "      <td>1</td>\n",
       "      <td>506</td>\n",
       "      <td>657</td>\n",
       "      <td>3</td>\n",
       "      <td>11</td>\n",
       "      <td>2019</td>\n",
       "      <td>8</td>\n",
       "      <td>12</td>\n",
       "      <td>21</td>\n",
       "      <td>18</td>\n",
       "      <td>3</td>\n",
       "      <td>2</td>\n",
       "      <td>5</td>\n",
       "      <td>2</td>\n",
       "      <td>2.256189</td>\n",
       "    </tr>\n",
       "    <tr>\n",
       "      <th>1</th>\n",
       "      <td>1</td>\n",
       "      <td>385</td>\n",
       "      <td>657</td>\n",
       "      <td>0</td>\n",
       "      <td>1</td>\n",
       "      <td>2019</td>\n",
       "      <td>8</td>\n",
       "      <td>12</td>\n",
       "      <td>14</td>\n",
       "      <td>25</td>\n",
       "      <td>3</td>\n",
       "      <td>2</td>\n",
       "      <td>0</td>\n",
       "      <td>2</td>\n",
       "      <td>1.440677</td>\n",
       "    </tr>\n",
       "    <tr>\n",
       "      <th>2</th>\n",
       "      <td>1</td>\n",
       "      <td>373</td>\n",
       "      <td>666</td>\n",
       "      <td>4</td>\n",
       "      <td>15</td>\n",
       "      <td>2019</td>\n",
       "      <td>8</td>\n",
       "      <td>3</td>\n",
       "      <td>15</td>\n",
       "      <td>18</td>\n",
       "      <td>0</td>\n",
       "      <td>2</td>\n",
       "      <td>2</td>\n",
       "      <td>2</td>\n",
       "      <td>1.344735</td>\n",
       "    </tr>\n",
       "    <tr>\n",
       "      <th>3</th>\n",
       "      <td>1</td>\n",
       "      <td>312</td>\n",
       "      <td>667</td>\n",
       "      <td>4</td>\n",
       "      <td>1</td>\n",
       "      <td>2019</td>\n",
       "      <td>8</td>\n",
       "      <td>2</td>\n",
       "      <td>16</td>\n",
       "      <td>40</td>\n",
       "      <td>4</td>\n",
       "      <td>2</td>\n",
       "      <td>2</td>\n",
       "      <td>2</td>\n",
       "      <td>0.912993</td>\n",
       "    </tr>\n",
       "    <tr>\n",
       "      <th>4</th>\n",
       "      <td>1</td>\n",
       "      <td>513</td>\n",
       "      <td>674</td>\n",
       "      <td>5</td>\n",
       "      <td>0</td>\n",
       "      <td>2019</td>\n",
       "      <td>0</td>\n",
       "      <td>25</td>\n",
       "      <td>16</td>\n",
       "      <td>51</td>\n",
       "      <td>4</td>\n",
       "      <td>2</td>\n",
       "      <td>2</td>\n",
       "      <td>2</td>\n",
       "      <td>2.304160</td>\n",
       "    </tr>\n",
       "    <tr>\n",
       "      <th>...</th>\n",
       "      <td>...</td>\n",
       "      <td>...</td>\n",
       "      <td>...</td>\n",
       "      <td>...</td>\n",
       "      <td>...</td>\n",
       "      <td>...</td>\n",
       "      <td>...</td>\n",
       "      <td>...</td>\n",
       "      <td>...</td>\n",
       "      <td>...</td>\n",
       "      <td>...</td>\n",
       "      <td>...</td>\n",
       "      <td>...</td>\n",
       "      <td>...</td>\n",
       "      <td>...</td>\n",
       "    </tr>\n",
       "    <tr>\n",
       "      <th>154999</th>\n",
       "      <td>1089</td>\n",
       "      <td>9</td>\n",
       "      <td>821</td>\n",
       "      <td>0</td>\n",
       "      <td>1</td>\n",
       "      <td>2018</td>\n",
       "      <td>9</td>\n",
       "      <td>29</td>\n",
       "      <td>14</td>\n",
       "      <td>40</td>\n",
       "      <td>4</td>\n",
       "      <td>4</td>\n",
       "      <td>0</td>\n",
       "      <td>1</td>\n",
       "      <td>-0.957885</td>\n",
       "    </tr>\n",
       "    <tr>\n",
       "      <th>155000</th>\n",
       "      <td>1089</td>\n",
       "      <td>3</td>\n",
       "      <td>822</td>\n",
       "      <td>3</td>\n",
       "      <td>0</td>\n",
       "      <td>2018</td>\n",
       "      <td>9</td>\n",
       "      <td>28</td>\n",
       "      <td>20</td>\n",
       "      <td>59</td>\n",
       "      <td>6</td>\n",
       "      <td>4</td>\n",
       "      <td>5</td>\n",
       "      <td>1</td>\n",
       "      <td>-1.197742</td>\n",
       "    </tr>\n",
       "    <tr>\n",
       "      <th>155001</th>\n",
       "      <td>1089</td>\n",
       "      <td>2</td>\n",
       "      <td>822</td>\n",
       "      <td>0</td>\n",
       "      <td>0</td>\n",
       "      <td>2018</td>\n",
       "      <td>9</td>\n",
       "      <td>28</td>\n",
       "      <td>16</td>\n",
       "      <td>27</td>\n",
       "      <td>6</td>\n",
       "      <td>4</td>\n",
       "      <td>2</td>\n",
       "      <td>1</td>\n",
       "      <td>-1.245713</td>\n",
       "    </tr>\n",
       "    <tr>\n",
       "      <th>155002</th>\n",
       "      <td>1089</td>\n",
       "      <td>14</td>\n",
       "      <td>822</td>\n",
       "      <td>0</td>\n",
       "      <td>2</td>\n",
       "      <td>2018</td>\n",
       "      <td>9</td>\n",
       "      <td>28</td>\n",
       "      <td>14</td>\n",
       "      <td>37</td>\n",
       "      <td>6</td>\n",
       "      <td>4</td>\n",
       "      <td>0</td>\n",
       "      <td>1</td>\n",
       "      <td>-0.813972</td>\n",
       "    </tr>\n",
       "    <tr>\n",
       "      <th>155003</th>\n",
       "      <td>1089</td>\n",
       "      <td>9</td>\n",
       "      <td>823</td>\n",
       "      <td>0</td>\n",
       "      <td>0</td>\n",
       "      <td>2018</td>\n",
       "      <td>9</td>\n",
       "      <td>27</td>\n",
       "      <td>14</td>\n",
       "      <td>27</td>\n",
       "      <td>5</td>\n",
       "      <td>4</td>\n",
       "      <td>0</td>\n",
       "      <td>1</td>\n",
       "      <td>-0.957885</td>\n",
       "    </tr>\n",
       "  </tbody>\n",
       "</table>\n",
       "<p>155004 rows × 15 columns</p>\n",
       "</div>"
      ],
      "text/plain": [
       "        User uuid  Likes  Days passed from post  Numer of Tags  \\\n",
       "0               1    506                    657              3   \n",
       "1               1    385                    657              0   \n",
       "2               1    373                    666              4   \n",
       "3               1    312                    667              4   \n",
       "4               1    513                    674              5   \n",
       "...           ...    ...                    ...            ...   \n",
       "154999       1089      9                    821              0   \n",
       "155000       1089      3                    822              3   \n",
       "155001       1089      2                    822              0   \n",
       "155002       1089     14                    822              0   \n",
       "155003       1089      9                    823              0   \n",
       "\n",
       "        Numer of Comments  Year  Month  Day  Hour  Minute  dayOfWeek  quarter  \\\n",
       "0                      11  2019      8   12    21      18          3        2   \n",
       "1                       1  2019      8   12    14      25          3        2   \n",
       "2                      15  2019      8    3    15      18          0        2   \n",
       "3                       1  2019      8    2    16      40          4        2   \n",
       "4                       0  2019      0   25    16      51          4        2   \n",
       "...                   ...   ...    ...  ...   ...     ...        ...      ...   \n",
       "154999                  1  2018      9   29    14      40          4        4   \n",
       "155000                  0  2018      9   28    20      59          6        4   \n",
       "155001                  0  2018      9   28    16      27          6        4   \n",
       "155002                  2  2018      9   28    14      37          6        4   \n",
       "155003                  0  2018      9   27    14      27          5        4   \n",
       "\n",
       "        timeOfDay  Season  Likes Score  \n",
       "0               5       2     2.256189  \n",
       "1               0       2     1.440677  \n",
       "2               2       2     1.344735  \n",
       "3               2       2     0.912993  \n",
       "4               2       2     2.304160  \n",
       "...           ...     ...          ...  \n",
       "154999          0       1    -0.957885  \n",
       "155000          5       1    -1.197742  \n",
       "155001          2       1    -1.245713  \n",
       "155002          0       1    -0.813972  \n",
       "155003          0       1    -0.957885  \n",
       "\n",
       "[155004 rows x 15 columns]"
      ]
     },
     "execution_count": 5,
     "metadata": {},
     "output_type": "execute_result"
    }
   ],
   "source": [
    "data"
   ]
  },
  {
   "cell_type": "code",
   "execution_count": 6,
   "id": "60452e02",
   "metadata": {},
   "outputs": [],
   "source": [
    "data = data[(data['Year'] == 2020)]"
   ]
  },
  {
   "cell_type": "code",
   "execution_count": 7,
   "id": "f9cc5476",
   "metadata": {
    "scrolled": false
   },
   "outputs": [
    {
     "data": {
      "text/html": [
       "<div>\n",
       "<style scoped>\n",
       "    .dataframe tbody tr th:only-of-type {\n",
       "        vertical-align: middle;\n",
       "    }\n",
       "\n",
       "    .dataframe tbody tr th {\n",
       "        vertical-align: top;\n",
       "    }\n",
       "\n",
       "    .dataframe thead th {\n",
       "        text-align: right;\n",
       "    }\n",
       "</style>\n",
       "<table border=\"1\" class=\"dataframe\">\n",
       "  <thead>\n",
       "    <tr style=\"text-align: right;\">\n",
       "      <th></th>\n",
       "      <th>User uuid</th>\n",
       "      <th>Likes</th>\n",
       "      <th>Days passed from post</th>\n",
       "      <th>Numer of Tags</th>\n",
       "      <th>Numer of Comments</th>\n",
       "      <th>Year</th>\n",
       "      <th>Month</th>\n",
       "      <th>Day</th>\n",
       "      <th>Hour</th>\n",
       "      <th>Minute</th>\n",
       "      <th>dayOfWeek</th>\n",
       "      <th>quarter</th>\n",
       "      <th>timeOfDay</th>\n",
       "      <th>Season</th>\n",
       "      <th>Likes Score</th>\n",
       "    </tr>\n",
       "  </thead>\n",
       "  <tbody>\n",
       "    <tr>\n",
       "      <th>186</th>\n",
       "      <td>2</td>\n",
       "      <td>36</td>\n",
       "      <td>187</td>\n",
       "      <td>0</td>\n",
       "      <td>2</td>\n",
       "      <td>2020</td>\n",
       "      <td>1</td>\n",
       "      <td>23</td>\n",
       "      <td>22</td>\n",
       "      <td>6</td>\n",
       "      <td>3</td>\n",
       "      <td>3</td>\n",
       "      <td>5</td>\n",
       "      <td>0</td>\n",
       "      <td>2.735901</td>\n",
       "    </tr>\n",
       "    <tr>\n",
       "      <th>187</th>\n",
       "      <td>2</td>\n",
       "      <td>38</td>\n",
       "      <td>188</td>\n",
       "      <td>0</td>\n",
       "      <td>1</td>\n",
       "      <td>2020</td>\n",
       "      <td>1</td>\n",
       "      <td>23</td>\n",
       "      <td>18</td>\n",
       "      <td>49</td>\n",
       "      <td>3</td>\n",
       "      <td>3</td>\n",
       "      <td>5</td>\n",
       "      <td>0</td>\n",
       "      <td>2.927786</td>\n",
       "    </tr>\n",
       "    <tr>\n",
       "      <th>188</th>\n",
       "      <td>2</td>\n",
       "      <td>36</td>\n",
       "      <td>195</td>\n",
       "      <td>0</td>\n",
       "      <td>0</td>\n",
       "      <td>2020</td>\n",
       "      <td>1</td>\n",
       "      <td>15</td>\n",
       "      <td>23</td>\n",
       "      <td>41</td>\n",
       "      <td>2</td>\n",
       "      <td>3</td>\n",
       "      <td>5</td>\n",
       "      <td>0</td>\n",
       "      <td>2.735901</td>\n",
       "    </tr>\n",
       "    <tr>\n",
       "      <th>189</th>\n",
       "      <td>2</td>\n",
       "      <td>41</td>\n",
       "      <td>195</td>\n",
       "      <td>0</td>\n",
       "      <td>1</td>\n",
       "      <td>2020</td>\n",
       "      <td>1</td>\n",
       "      <td>15</td>\n",
       "      <td>22</td>\n",
       "      <td>3</td>\n",
       "      <td>2</td>\n",
       "      <td>3</td>\n",
       "      <td>5</td>\n",
       "      <td>0</td>\n",
       "      <td>3.263585</td>\n",
       "    </tr>\n",
       "    <tr>\n",
       "      <th>190</th>\n",
       "      <td>2</td>\n",
       "      <td>35</td>\n",
       "      <td>198</td>\n",
       "      <td>0</td>\n",
       "      <td>3</td>\n",
       "      <td>2020</td>\n",
       "      <td>1</td>\n",
       "      <td>13</td>\n",
       "      <td>19</td>\n",
       "      <td>19</td>\n",
       "      <td>4</td>\n",
       "      <td>3</td>\n",
       "      <td>5</td>\n",
       "      <td>0</td>\n",
       "      <td>2.591987</td>\n",
       "    </tr>\n",
       "    <tr>\n",
       "      <th>...</th>\n",
       "      <td>...</td>\n",
       "      <td>...</td>\n",
       "      <td>...</td>\n",
       "      <td>...</td>\n",
       "      <td>...</td>\n",
       "      <td>...</td>\n",
       "      <td>...</td>\n",
       "      <td>...</td>\n",
       "      <td>...</td>\n",
       "      <td>...</td>\n",
       "      <td>...</td>\n",
       "      <td>...</td>\n",
       "      <td>...</td>\n",
       "      <td>...</td>\n",
       "      <td>...</td>\n",
       "    </tr>\n",
       "    <tr>\n",
       "      <th>154847</th>\n",
       "      <td>1089</td>\n",
       "      <td>10</td>\n",
       "      <td>366</td>\n",
       "      <td>1</td>\n",
       "      <td>0</td>\n",
       "      <td>2020</td>\n",
       "      <td>3</td>\n",
       "      <td>27</td>\n",
       "      <td>6</td>\n",
       "      <td>14</td>\n",
       "      <td>4</td>\n",
       "      <td>1</td>\n",
       "      <td>1</td>\n",
       "      <td>3</td>\n",
       "      <td>-0.957885</td>\n",
       "    </tr>\n",
       "    <tr>\n",
       "      <th>154848</th>\n",
       "      <td>1089</td>\n",
       "      <td>43</td>\n",
       "      <td>375</td>\n",
       "      <td>0</td>\n",
       "      <td>1</td>\n",
       "      <td>2020</td>\n",
       "      <td>3</td>\n",
       "      <td>18</td>\n",
       "      <td>1</td>\n",
       "      <td>27</td>\n",
       "      <td>5</td>\n",
       "      <td>1</td>\n",
       "      <td>3</td>\n",
       "      <td>3</td>\n",
       "      <td>0.193425</td>\n",
       "    </tr>\n",
       "    <tr>\n",
       "      <th>154849</th>\n",
       "      <td>1089</td>\n",
       "      <td>74</td>\n",
       "      <td>386</td>\n",
       "      <td>2</td>\n",
       "      <td>15</td>\n",
       "      <td>2020</td>\n",
       "      <td>3</td>\n",
       "      <td>7</td>\n",
       "      <td>6</td>\n",
       "      <td>6</td>\n",
       "      <td>0</td>\n",
       "      <td>1</td>\n",
       "      <td>1</td>\n",
       "      <td>3</td>\n",
       "      <td>1.296764</td>\n",
       "    </tr>\n",
       "    <tr>\n",
       "      <th>154850</th>\n",
       "      <td>1089</td>\n",
       "      <td>3</td>\n",
       "      <td>423</td>\n",
       "      <td>2</td>\n",
       "      <td>0</td>\n",
       "      <td>2020</td>\n",
       "      <td>4</td>\n",
       "      <td>1</td>\n",
       "      <td>7</td>\n",
       "      <td>41</td>\n",
       "      <td>6</td>\n",
       "      <td>1</td>\n",
       "      <td>4</td>\n",
       "      <td>3</td>\n",
       "      <td>-1.197742</td>\n",
       "    </tr>\n",
       "    <tr>\n",
       "      <th>154851</th>\n",
       "      <td>1089</td>\n",
       "      <td>36</td>\n",
       "      <td>423</td>\n",
       "      <td>0</td>\n",
       "      <td>1</td>\n",
       "      <td>2020</td>\n",
       "      <td>4</td>\n",
       "      <td>1</td>\n",
       "      <td>7</td>\n",
       "      <td>38</td>\n",
       "      <td>6</td>\n",
       "      <td>1</td>\n",
       "      <td>4</td>\n",
       "      <td>3</td>\n",
       "      <td>-0.046432</td>\n",
       "    </tr>\n",
       "  </tbody>\n",
       "</table>\n",
       "<p>91877 rows × 15 columns</p>\n",
       "</div>"
      ],
      "text/plain": [
       "        User uuid  Likes  Days passed from post  Numer of Tags  \\\n",
       "186             2     36                    187              0   \n",
       "187             2     38                    188              0   \n",
       "188             2     36                    195              0   \n",
       "189             2     41                    195              0   \n",
       "190             2     35                    198              0   \n",
       "...           ...    ...                    ...            ...   \n",
       "154847       1089     10                    366              1   \n",
       "154848       1089     43                    375              0   \n",
       "154849       1089     74                    386              2   \n",
       "154850       1089      3                    423              2   \n",
       "154851       1089     36                    423              0   \n",
       "\n",
       "        Numer of Comments  Year  Month  Day  Hour  Minute  dayOfWeek  quarter  \\\n",
       "186                     2  2020      1   23    22       6          3        3   \n",
       "187                     1  2020      1   23    18      49          3        3   \n",
       "188                     0  2020      1   15    23      41          2        3   \n",
       "189                     1  2020      1   15    22       3          2        3   \n",
       "190                     3  2020      1   13    19      19          4        3   \n",
       "...                   ...   ...    ...  ...   ...     ...        ...      ...   \n",
       "154847                  0  2020      3   27     6      14          4        1   \n",
       "154848                  1  2020      3   18     1      27          5        1   \n",
       "154849                 15  2020      3    7     6       6          0        1   \n",
       "154850                  0  2020      4    1     7      41          6        1   \n",
       "154851                  1  2020      4    1     7      38          6        1   \n",
       "\n",
       "        timeOfDay  Season  Likes Score  \n",
       "186             5       0     2.735901  \n",
       "187             5       0     2.927786  \n",
       "188             5       0     2.735901  \n",
       "189             5       0     3.263585  \n",
       "190             5       0     2.591987  \n",
       "...           ...     ...          ...  \n",
       "154847          1       3    -0.957885  \n",
       "154848          3       3     0.193425  \n",
       "154849          1       3     1.296764  \n",
       "154850          4       3    -1.197742  \n",
       "154851          4       3    -0.046432  \n",
       "\n",
       "[91877 rows x 15 columns]"
      ]
     },
     "execution_count": 7,
     "metadata": {},
     "output_type": "execute_result"
    }
   ],
   "source": [
    "data"
   ]
  },
  {
   "cell_type": "code",
   "execution_count": 8,
   "id": "03af1d0d",
   "metadata": {},
   "outputs": [
    {
     "data": {
      "text/plain": [
       "User uuid                 1057\n",
       "Likes                    30890\n",
       "Days passed from post      367\n",
       "Numer of Tags               31\n",
       "Numer of Comments         4825\n",
       "Year                         1\n",
       "Month                       12\n",
       "Day                         31\n",
       "Hour                        24\n",
       "Minute                      60\n",
       "dayOfWeek                    7\n",
       "quarter                      4\n",
       "timeOfDay                    6\n",
       "Season                       4\n",
       "Likes Score                101\n",
       "dtype: int64"
      ]
     },
     "execution_count": 8,
     "metadata": {},
     "output_type": "execute_result"
    }
   ],
   "source": [
    "data.nunique()"
   ]
  },
  {
   "cell_type": "markdown",
   "id": "27ac79d5",
   "metadata": {},
   "source": [
    "### Removing columns that are not inputs"
   ]
  },
  {
   "cell_type": "code",
   "execution_count": 9,
   "id": "2ee020d8",
   "metadata": {},
   "outputs": [],
   "source": [
    "data2=data.drop(['User uuid', 'Days passed from post', 'Numer of Comments', 'quarter', 'Minute', 'Season', 'Likes', 'Year', 'Numer of Tags', 'Day', 'timeOfDay'], axis=1)"
   ]
  },
  {
   "cell_type": "code",
   "execution_count": 10,
   "id": "74aebb94",
   "metadata": {
    "scrolled": false
   },
   "outputs": [
    {
     "data": {
      "text/html": [
       "<div>\n",
       "<style scoped>\n",
       "    .dataframe tbody tr th:only-of-type {\n",
       "        vertical-align: middle;\n",
       "    }\n",
       "\n",
       "    .dataframe tbody tr th {\n",
       "        vertical-align: top;\n",
       "    }\n",
       "\n",
       "    .dataframe thead th {\n",
       "        text-align: right;\n",
       "    }\n",
       "</style>\n",
       "<table border=\"1\" class=\"dataframe\">\n",
       "  <thead>\n",
       "    <tr style=\"text-align: right;\">\n",
       "      <th></th>\n",
       "      <th>Month</th>\n",
       "      <th>Hour</th>\n",
       "      <th>dayOfWeek</th>\n",
       "      <th>Likes Score</th>\n",
       "    </tr>\n",
       "  </thead>\n",
       "  <tbody>\n",
       "    <tr>\n",
       "      <th>186</th>\n",
       "      <td>1</td>\n",
       "      <td>22</td>\n",
       "      <td>3</td>\n",
       "      <td>2.735901</td>\n",
       "    </tr>\n",
       "    <tr>\n",
       "      <th>187</th>\n",
       "      <td>1</td>\n",
       "      <td>18</td>\n",
       "      <td>3</td>\n",
       "      <td>2.927786</td>\n",
       "    </tr>\n",
       "    <tr>\n",
       "      <th>188</th>\n",
       "      <td>1</td>\n",
       "      <td>23</td>\n",
       "      <td>2</td>\n",
       "      <td>2.735901</td>\n",
       "    </tr>\n",
       "    <tr>\n",
       "      <th>189</th>\n",
       "      <td>1</td>\n",
       "      <td>22</td>\n",
       "      <td>2</td>\n",
       "      <td>3.263585</td>\n",
       "    </tr>\n",
       "    <tr>\n",
       "      <th>190</th>\n",
       "      <td>1</td>\n",
       "      <td>19</td>\n",
       "      <td>4</td>\n",
       "      <td>2.591987</td>\n",
       "    </tr>\n",
       "    <tr>\n",
       "      <th>...</th>\n",
       "      <td>...</td>\n",
       "      <td>...</td>\n",
       "      <td>...</td>\n",
       "      <td>...</td>\n",
       "    </tr>\n",
       "    <tr>\n",
       "      <th>154847</th>\n",
       "      <td>3</td>\n",
       "      <td>6</td>\n",
       "      <td>4</td>\n",
       "      <td>-0.957885</td>\n",
       "    </tr>\n",
       "    <tr>\n",
       "      <th>154848</th>\n",
       "      <td>3</td>\n",
       "      <td>1</td>\n",
       "      <td>5</td>\n",
       "      <td>0.193425</td>\n",
       "    </tr>\n",
       "    <tr>\n",
       "      <th>154849</th>\n",
       "      <td>3</td>\n",
       "      <td>6</td>\n",
       "      <td>0</td>\n",
       "      <td>1.296764</td>\n",
       "    </tr>\n",
       "    <tr>\n",
       "      <th>154850</th>\n",
       "      <td>4</td>\n",
       "      <td>7</td>\n",
       "      <td>6</td>\n",
       "      <td>-1.197742</td>\n",
       "    </tr>\n",
       "    <tr>\n",
       "      <th>154851</th>\n",
       "      <td>4</td>\n",
       "      <td>7</td>\n",
       "      <td>6</td>\n",
       "      <td>-0.046432</td>\n",
       "    </tr>\n",
       "  </tbody>\n",
       "</table>\n",
       "<p>91877 rows × 4 columns</p>\n",
       "</div>"
      ],
      "text/plain": [
       "        Month  Hour  dayOfWeek  Likes Score\n",
       "186         1    22          3     2.735901\n",
       "187         1    18          3     2.927786\n",
       "188         1    23          2     2.735901\n",
       "189         1    22          2     3.263585\n",
       "190         1    19          4     2.591987\n",
       "...       ...   ...        ...          ...\n",
       "154847      3     6          4    -0.957885\n",
       "154848      3     1          5     0.193425\n",
       "154849      3     6          0     1.296764\n",
       "154850      4     7          6    -1.197742\n",
       "154851      4     7          6    -0.046432\n",
       "\n",
       "[91877 rows x 4 columns]"
      ]
     },
     "execution_count": 10,
     "metadata": {},
     "output_type": "execute_result"
    }
   ],
   "source": [
    "data2"
   ]
  },
  {
   "cell_type": "code",
   "execution_count": 11,
   "id": "0bf09e53",
   "metadata": {},
   "outputs": [
    {
     "data": {
      "text/plain": [
       "6"
      ]
     },
     "execution_count": 11,
     "metadata": {},
     "output_type": "execute_result"
    }
   ],
   "source": [
    "max(data2['dayOfWeek'])"
   ]
  },
  {
   "cell_type": "code",
   "execution_count": 12,
   "id": "015b8880",
   "metadata": {},
   "outputs": [],
   "source": [
    "file_path = \"C:/Users/amala/Desktop/instagram_data4.csv\"\n",
    "data2.to_csv(file_path, index=False)"
   ]
  },
  {
   "cell_type": "code",
   "execution_count": 13,
   "id": "8afffdd4",
   "metadata": {},
   "outputs": [],
   "source": [
    "data2=data.drop(['User uuid', 'Days passed from post', 'Numer of Comments', 'quarter', 'Minute', 'Season', 'Likes', 'Year', 'Numer of Tags', 'Day', 'timeOfDay'], axis=1)"
   ]
  },
  {
   "cell_type": "code",
   "execution_count": 14,
   "id": "99841497",
   "metadata": {},
   "outputs": [],
   "source": [
    "def LikeScore(n):\n",
    "    if -2 <= n < -0.75:\n",
    "        return 'Low Like Score'\n",
    "    elif -0.75 <= n < 0.5:\n",
    "        return 'Average Like Score'\n",
    "    elif 0.5 <= n < 5:\n",
    "        return 'High Like Score'"
   ]
  },
  {
   "cell_type": "code",
   "execution_count": 15,
   "id": "30a66f37",
   "metadata": {},
   "outputs": [],
   "source": [
    "data2['Likes Score']= data2['Likes Score'].apply(lambda x:LikeScore(x))"
   ]
  },
  {
   "cell_type": "code",
   "execution_count": 16,
   "id": "0a05c4c9",
   "metadata": {},
   "outputs": [
    {
     "data": {
      "image/png": "[encoded data removed]",
      "text/plain": [
       "<Figure size 432x288 with 1 Axes>"
      ]
     },
     "metadata": {
      "needs_background": "light"
     },
     "output_type": "display_data"
    }
   ],
   "source": [
    "plt.hist(data2['Likes Score'])\n",
    "plt.show()"
   ]
  },
  {
   "cell_type": "code",
   "execution_count": 17,
   "id": "a26f0ba4",
   "metadata": {},
   "outputs": [
    {
     "data": {
      "text/plain": [
       "Month          0\n",
       "Hour           0\n",
       "dayOfWeek      0\n",
       "Likes Score    0\n",
       "dtype: int64"
      ]
     },
     "execution_count": 17,
     "metadata": {},
     "output_type": "execute_result"
    }
   ],
   "source": [
    "data2.isna().sum()"
   ]
  },
  {
   "cell_type": "code",
   "execution_count": 18,
   "id": "4ad30fd6",
   "metadata": {},
   "outputs": [],
   "source": [
    "from sklearn.preprocessing import LabelEncoder\n",
    "\n",
    "encoder = LabelEncoder()\n",
    "data2['Likes Score'] = encoder.fit_transform(data2['Likes Score'])"
   ]
  },
  {
   "cell_type": "code",
   "execution_count": 19,
   "id": "a4155f2a",
   "metadata": {},
   "outputs": [
    {
     "data": {
      "text/html": [
       "<div>\n",
       "<style scoped>\n",
       "    .dataframe tbody tr th:only-of-type {\n",
       "        vertical-align: middle;\n",
       "    }\n",
       "\n",
       "    .dataframe tbody tr th {\n",
       "        vertical-align: top;\n",
       "    }\n",
       "\n",
       "    .dataframe thead th {\n",
       "        text-align: right;\n",
       "    }\n",
       "</style>\n",
       "<table border=\"1\" class=\"dataframe\">\n",
       "  <thead>\n",
       "    <tr style=\"text-align: right;\">\n",
       "      <th></th>\n",
       "      <th>Month</th>\n",
       "      <th>Hour</th>\n",
       "      <th>dayOfWeek</th>\n",
       "      <th>Likes Score</th>\n",
       "    </tr>\n",
       "  </thead>\n",
       "  <tbody>\n",
       "    <tr>\n",
       "      <th>186</th>\n",
       "      <td>1</td>\n",
       "      <td>22</td>\n",
       "      <td>3</td>\n",
       "      <td>1</td>\n",
       "    </tr>\n",
       "    <tr>\n",
       "      <th>187</th>\n",
       "      <td>1</td>\n",
       "      <td>18</td>\n",
       "      <td>3</td>\n",
       "      <td>1</td>\n",
       "    </tr>\n",
       "    <tr>\n",
       "      <th>188</th>\n",
       "      <td>1</td>\n",
       "      <td>23</td>\n",
       "      <td>2</td>\n",
       "      <td>1</td>\n",
       "    </tr>\n",
       "    <tr>\n",
       "      <th>189</th>\n",
       "      <td>1</td>\n",
       "      <td>22</td>\n",
       "      <td>2</td>\n",
       "      <td>1</td>\n",
       "    </tr>\n",
       "    <tr>\n",
       "      <th>190</th>\n",
       "      <td>1</td>\n",
       "      <td>19</td>\n",
       "      <td>4</td>\n",
       "      <td>1</td>\n",
       "    </tr>\n",
       "    <tr>\n",
       "      <th>...</th>\n",
       "      <td>...</td>\n",
       "      <td>...</td>\n",
       "      <td>...</td>\n",
       "      <td>...</td>\n",
       "    </tr>\n",
       "    <tr>\n",
       "      <th>154847</th>\n",
       "      <td>3</td>\n",
       "      <td>6</td>\n",
       "      <td>4</td>\n",
       "      <td>2</td>\n",
       "    </tr>\n",
       "    <tr>\n",
       "      <th>154848</th>\n",
       "      <td>3</td>\n",
       "      <td>1</td>\n",
       "      <td>5</td>\n",
       "      <td>0</td>\n",
       "    </tr>\n",
       "    <tr>\n",
       "      <th>154849</th>\n",
       "      <td>3</td>\n",
       "      <td>6</td>\n",
       "      <td>0</td>\n",
       "      <td>1</td>\n",
       "    </tr>\n",
       "    <tr>\n",
       "      <th>154850</th>\n",
       "      <td>4</td>\n",
       "      <td>7</td>\n",
       "      <td>6</td>\n",
       "      <td>2</td>\n",
       "    </tr>\n",
       "    <tr>\n",
       "      <th>154851</th>\n",
       "      <td>4</td>\n",
       "      <td>7</td>\n",
       "      <td>6</td>\n",
       "      <td>0</td>\n",
       "    </tr>\n",
       "  </tbody>\n",
       "</table>\n",
       "<p>91877 rows × 4 columns</p>\n",
       "</div>"
      ],
      "text/plain": [
       "        Month  Hour  dayOfWeek  Likes Score\n",
       "186         1    22          3            1\n",
       "187         1    18          3            1\n",
       "188         1    23          2            1\n",
       "189         1    22          2            1\n",
       "190         1    19          4            1\n",
       "...       ...   ...        ...          ...\n",
       "154847      3     6          4            2\n",
       "154848      3     1          5            0\n",
       "154849      3     6          0            1\n",
       "154850      4     7          6            2\n",
       "154851      4     7          6            0\n",
       "\n",
       "[91877 rows x 4 columns]"
      ]
     },
     "execution_count": 19,
     "metadata": {},
     "output_type": "execute_result"
    }
   ],
   "source": [
    "data2"
   ]
  },
  {
   "cell_type": "code",
   "execution_count": 20,
   "id": "4c7a0c6b",
   "metadata": {},
   "outputs": [
    {
     "data": {
      "image/png": "[encoded data removed]",
      "text/plain": [
       "<Figure size 432x288 with 1 Axes>"
      ]
     },
     "metadata": {
      "needs_background": "light"
     },
     "output_type": "display_data"
    }
   ],
   "source": [
    "plt.hist(data2['Likes Score'])\n",
    "plt.show()"
   ]
  },
  {
   "cell_type": "code",
   "execution_count": 21,
   "id": "d84ee831",
   "metadata": {},
   "outputs": [],
   "source": [
    "X= data2.drop('Likes Score', axis=1)"
   ]
  },
  {
   "cell_type": "code",
   "execution_count": 22,
   "id": "11b84f6e",
   "metadata": {},
   "outputs": [],
   "source": [
    "y= data2['Likes Score']"
   ]
  },
  {
   "cell_type": "code",
   "execution_count": 23,
   "id": "1ef66c46",
   "metadata": {},
   "outputs": [],
   "source": [
    "from sklearn.model_selection import train_test_split\n",
    "X_train, X_test, y_train, y_test= train_test_split(X,y, test_size=0.2, random_state=42)"
   ]
  },
  {
   "cell_type": "code",
   "execution_count": 101,
   "id": "e1c8c57e",
   "metadata": {
    "scrolled": true
   },
   "outputs": [
    {
     "data": {
      "image/png": "[encoded data removed]",
      "text/plain": [
       "<Figure size 432x288 with 1 Axes>"
      ]
     },
     "metadata": {
      "needs_background": "light"
     },
     "output_type": "display_data"
    }
   ],
   "source": [
    "plt.scatter(y.index, y)\n",
    "plt.show()"
   ]
  },
  {
   "cell_type": "markdown",
   "id": "48427a66",
   "metadata": {},
   "source": [
    "### KNN Classifier"
   ]
  },
  {
   "cell_type": "code",
   "execution_count": 24,
   "id": "f272b892",
   "metadata": {},
   "outputs": [],
   "source": [
    "from sklearn.metrics import accuracy_score\n",
    "from sklearn.neighbors import KNeighborsClassifier"
   ]
  },
  {
   "cell_type": "code",
   "execution_count": 104,
   "id": "f555fa59",
   "metadata": {},
   "outputs": [
    {
     "data": {
      "image/png": "[encoded data removed]",
      "text/plain": [
       "<Figure size 432x288 with 1 Axes>"
      ]
     },
     "metadata": {
      "needs_background": "light"
     },
     "output_type": "display_data"
    }
   ],
   "source": [
    "metric_k = []\n",
    "neighbors = np.arange(1,20)\n",
    "\n",
    "for k in neighbors:\n",
    "    classifier = KNeighborsClassifier(n_neighbors=k)\n",
    "    classifier.fit(X_train, y_train)\n",
    "    y_pred = classifier.predict(X_test)\n",
    "    acc = accuracy_score(y_test, y_pred)\n",
    "    metric_k.append(acc)\n",
    "\n",
    "plt.plot(neighbors,metric_k, 'o-')\n",
    "plt.title('kNN Accuracy plot')\n",
    "plt.xlabel('K value')\n",
    "plt.ylabel('Accuracy')\n",
    "plt.show()"
   ]
  },
  {
   "cell_type": "code",
   "execution_count": 105,
   "id": "f965f2a3",
   "metadata": {},
   "outputs": [
    {
     "data": {
      "image/png": "[encoded data removed]",
      "text/plain": [
       "<Figure size 432x288 with 1 Axes>"
      ]
     },
     "metadata": {
      "needs_background": "light"
     },
     "output_type": "display_data"
    }
   ],
   "source": [
    "metric_k = []\n",
    "neighbors = np.arange(15,200)\n",
    "\n",
    "for k in neighbors:\n",
    "    classifier = KNeighborsClassifier(n_neighbors=k)\n",
    "    classifier.fit(X_train, y_train)\n",
    "    y_pred = classifier.predict(X_test)\n",
    "    acc = accuracy_score(y_test, y_pred)\n",
    "    metric_k.append(acc)\n",
    "\n",
    "plt.plot(neighbors,metric_k, 'o-')\n",
    "plt.title('kNN Accuracy plot')\n",
    "plt.xlabel('K value')\n",
    "plt.ylabel('Accuracy')\n",
    "plt.show()"
   ]
  },
  {
   "cell_type": "code",
   "execution_count": 29,
   "id": "4312be1f",
   "metadata": {},
   "outputs": [
    {
     "data": {
      "text/plain": [
       "0.42582716586852415"
      ]
     },
     "execution_count": 29,
     "metadata": {},
     "output_type": "execute_result"
    }
   ],
   "source": [
    "max(metric_k)"
   ]
  },
  {
   "cell_type": "code",
   "execution_count": 30,
   "id": "b1fde2be",
   "metadata": {},
   "outputs": [],
   "source": [
    "indices= list(enumerate(metric_k))"
   ]
  },
  {
   "cell_type": "code",
   "execution_count": 31,
   "id": "c55774d8",
   "metadata": {
    "scrolled": true
   },
   "outputs": [
    {
     "data": {
      "text/plain": [
       "[(0, 0.4251741401828472),\n",
       " (1, 0.4249564649542882),\n",
       " (2, 0.42457553330430997),\n",
       " (3, 0.42479320853286895),\n",
       " (4, 0.4256639094471049),\n",
       " (5, 0.42506530256856767),\n",
       " (6, 0.42506530256856767),\n",
       " (7, 0.4252829777971267),\n",
       " (8, 0.42479320853286895),\n",
       " (9, 0.4255006530256857),\n",
       " (10, 0.4256639094471049),\n",
       " (11, 0.4256639094471049),\n",
       " (12, 0.4256639094471049),\n",
       " (13, 0.4252829777971267),\n",
       " (14, 0.42506530256856767),\n",
       " (15, 0.42511972137570747),\n",
       " (16, 0.42506530256856767),\n",
       " (17, 0.42560949063996517),\n",
       " (18, 0.42560949063996517),\n",
       " (19, 0.42560949063996517),\n",
       " (20, 0.42582716586852415),\n",
       " (21, 0.4256639094471049),\n",
       " (22, 0.4250108837614279),\n",
       " (23, 0.42490204614714844),\n",
       " (24, 0.42490204614714844),\n",
       " (25, 0.42468437091858946),\n",
       " (26, 0.4240857640400522),\n",
       " (27, 0.42479320853286895),\n",
       " (28, 0.4245211144971702),\n",
       " (29, 0.42544623421854594),\n",
       " (30, 0.42511972137570747),\n",
       " (31, 0.4251741401828472),\n",
       " (32, 0.4251741401828472),\n",
       " (33, 0.4251741401828472),\n",
       " (34, 0.4255006530256857),\n",
       " (35, 0.42544623421854594),\n",
       " (36, 0.42533739660426645),\n",
       " (37, 0.42544623421854594),\n",
       " (38, 0.42544623421854594),\n",
       " (39, 0.4256639094471049),\n",
       " (40, 0.4256639094471049),\n",
       " (41, 0.42533739660426645),\n",
       " (42, 0.42544623421854594),\n",
       " (43, 0.4256639094471049),\n",
       " (44, 0.42560949063996517),\n",
       " (45, 0.42560949063996517),\n",
       " (46, 0.4252829777971267),\n",
       " (47, 0.42511972137570747),\n",
       " (48, 0.42533739660426645),\n",
       " (49, 0.42533739660426645),\n",
       " (50, 0.4256639094471049),\n",
       " (51, 0.42522855898998696),\n",
       " (52, 0.4255550718328254),\n",
       " (53, 0.4252829777971267),\n",
       " (54, 0.42544623421854594),\n",
       " (55, 0.42522855898998696),\n",
       " (56, 0.42522855898998696),\n",
       " (57, 0.42560949063996517),\n",
       " (58, 0.42571832825424466),\n",
       " (59, 0.4253918154114062),\n",
       " (60, 0.4255550718328254),\n",
       " (61, 0.42560949063996517),\n",
       " (62, 0.4252829777971267),\n",
       " (63, 0.4255550718328254),\n",
       " (64, 0.4255550718328254),\n",
       " (65, 0.4253918154114062),\n",
       " (66, 0.42522855898998696),\n",
       " (67, 0.4255550718328254),\n",
       " (68, 0.4252829777971267),\n",
       " (69, 0.42560949063996517),\n",
       " (70, 0.42560949063996517),\n",
       " (71, 0.4255550718328254),\n",
       " (72, 0.42522855898998696),\n",
       " (73, 0.42522855898998696),\n",
       " (74, 0.4255550718328254),\n",
       " (75, 0.4255550718328254),\n",
       " (76, 0.4255550718328254),\n",
       " (77, 0.4255550718328254),\n",
       " (78, 0.4255550718328254),\n",
       " (79, 0.4252829777971267),\n",
       " (80, 0.4253918154114062),\n",
       " (81, 0.42544623421854594),\n",
       " (82, 0.4252829777971267),\n",
       " (83, 0.4252829777971267),\n",
       " (84, 0.4255550718328254),\n",
       " (85, 0.4255550718328254),\n",
       " (86, 0.42506530256856767),\n",
       " (87, 0.42506530256856767),\n",
       " (88, 0.4255006530256857),\n",
       " (89, 0.4253918154114062),\n",
       " (90, 0.4255006530256857),\n",
       " (91, 0.42506530256856767),\n",
       " (92, 0.42522855898998696),\n",
       " (93, 0.4253918154114062),\n",
       " (94, 0.4255006530256857),\n",
       " (95, 0.4255550718328254),\n",
       " (96, 0.4255550718328254),\n",
       " (97, 0.42522855898998696),\n",
       " (98, 0.4253918154114062),\n",
       " (99, 0.4253918154114062),\n",
       " (100, 0.4253918154114062),\n",
       " (101, 0.42506530256856767),\n",
       " (102, 0.42506530256856767),\n",
       " (103, 0.42522855898998696),\n",
       " (104, 0.42506530256856767),\n",
       " (105, 0.42506530256856767),\n",
       " (106, 0.4249564649542882),\n",
       " (107, 0.42506530256856767),\n",
       " (108, 0.4249564649542882),\n",
       " (109, 0.42506530256856767),\n",
       " (110, 0.42506530256856767),\n",
       " (111, 0.42506530256856767),\n",
       " (112, 0.42522855898998696),\n",
       " (113, 0.42522855898998696),\n",
       " (114, 0.42522855898998696),\n",
       " (115, 0.4255550718328254),\n",
       " (116, 0.42522855898998696),\n",
       " (117, 0.42544623421854594),\n",
       " (118, 0.4255550718328254),\n",
       " (119, 0.42506530256856767)]"
      ]
     },
     "execution_count": 31,
     "metadata": {},
     "output_type": "execute_result"
    }
   ],
   "source": [
    "#last time it was 0.4260448410970831\n",
    "indices\n",
    "#k=224\n",
    "#this time k=300"
   ]
  },
  {
   "cell_type": "code",
   "execution_count": 25,
   "id": "b5646845",
   "metadata": {},
   "outputs": [
    {
     "data": {
      "text/plain": [
       "0.407760121898128"
      ]
     },
     "execution_count": 25,
     "metadata": {},
     "output_type": "execute_result"
    }
   ],
   "source": [
    "    classifier = KNeighborsClassifier(n_neighbors=2)\n",
    "    classifier.fit(X_train, y_train)\n",
    "    y_pred = classifier.predict(X_test)\n",
    "    accuracy_score(y_test, y_pred)"
   ]
  },
  {
   "cell_type": "markdown",
   "id": "80474adb",
   "metadata": {},
   "source": [
    "### DecisionTree"
   ]
  },
  {
   "cell_type": "code",
   "execution_count": 31,
   "id": "e4201f09",
   "metadata": {},
   "outputs": [
    {
     "data": {
      "text/plain": [
       "0.4485742272529386"
      ]
     },
     "execution_count": 31,
     "metadata": {},
     "output_type": "execute_result"
    }
   ],
   "source": [
    "from sklearn.tree import DecisionTreeClassifier\n",
    "dt= DecisionTreeClassifier()\n",
    "model0= dt.fit(X_train,y_train)\n",
    "y_pred =model0.predict(X_test)\n",
    "accuracy_score(y_test,y_pred)"
   ]
  },
  {
   "cell_type": "markdown",
   "id": "f62cb26a",
   "metadata": {},
   "source": [
    "###  RandomForest"
   ]
  },
  {
   "cell_type": "code",
   "execution_count": 29,
   "id": "6301649c",
   "metadata": {},
   "outputs": [
    {
     "data": {
      "text/plain": [
       "0.44345885938180235"
      ]
     },
     "execution_count": 29,
     "metadata": {},
     "output_type": "execute_result"
    }
   ],
   "source": [
    "from sklearn.ensemble import RandomForestClassifier\n",
    "rfclf= RandomForestClassifier()\n",
    "rfclf.fit(X_train,y_train)\n",
    "y_pred= rfclf.predict(X_test)\n",
    "accuracy_score(y_test,y_pred)"
   ]
  },
  {
   "cell_type": "markdown",
   "id": "463f8349",
   "metadata": {},
   "source": [
    "### SVC"
   ]
  },
  {
   "cell_type": "code",
   "execution_count": 33,
   "id": "39247a60",
   "metadata": {},
   "outputs": [
    {
     "data": {
      "text/plain": [
       "0.46691336525903354"
      ]
     },
     "execution_count": 33,
     "metadata": {},
     "output_type": "execute_result"
    }
   ],
   "source": [
    "from sklearn.svm import SVC\n",
    "svmclf= SVC(kernel='linear')\n",
    "model = svmclf.fit(X_train, y_train)\n",
    "y_pred = svmclf.predict(X_test)\n",
    "accuracy_score(y_test,y_pred)"
   ]
  },
  {
   "cell_type": "code",
   "execution_count": 35,
   "id": "b1a82316",
   "metadata": {},
   "outputs": [],
   "source": [
    "from sklearn.svm import SVC\n",
    "svmclf= SVC(kernel='rbf')\n",
    "model2 = svmclf.fit(X_train, y_train)\n",
    "y_pred = svmclf.predict(X_test)"
   ]
  },
  {
   "cell_type": "code",
   "execution_count": 36,
   "id": "3a8bd4c9",
   "metadata": {},
   "outputs": [
    {
     "data": {
      "text/plain": [
       "0.42533739660426645"
      ]
     },
     "execution_count": 36,
     "metadata": {},
     "output_type": "execute_result"
    }
   ],
   "source": [
    "accuracy_score(y_test,y_pred)"
   ]
  },
  {
   "cell_type": "code",
   "execution_count": 28,
   "id": "85c27da3",
   "metadata": {},
   "outputs": [],
   "source": [
    "from sklearn.svm import SVC\n",
    "svmclf= SVC(kernel='poly')\n",
    "model3 = svmclf.fit(X_train, y_train)\n",
    "y_pred = svmclf.predict(X_test)"
   ]
  },
  {
   "cell_type": "code",
   "execution_count": 30,
   "id": "e035f963",
   "metadata": {},
   "outputs": [
    {
     "data": {
      "text/plain": [
       "0.42533739660426645"
      ]
     },
     "execution_count": 30,
     "metadata": {},
     "output_type": "execute_result"
    }
   ],
   "source": [
    "y_pred = model3.predict(X_test)\n",
    "accuracy_score(y_test,y_pred)"
   ]
  },
  {
   "cell_type": "markdown",
   "id": "42cc947c",
   "metadata": {},
   "source": [
    "### Hyperparameter Tuning"
   ]
  },
  {
   "cell_type": "code",
   "execution_count": 66,
   "id": "13ec0160",
   "metadata": {},
   "outputs": [
    {
     "name": "stdout",
     "output_type": "stream",
     "text": [
      "Best Hyperparameters:  {'max_depth': 5, 'max_features': 'sqrt', 'min_samples_leaf': 4, 'min_samples_split': 3}\n",
      "Best Score:  0.4218446021766301\n"
     ]
    }
   ],
   "source": [
    "from sklearn.model_selection import RandomizedSearchCV\n",
    "from sklearn.tree import DecisionTreeClassifier\n",
    "from scipy.stats import randint\n",
    "\n",
    "# Define the hyperparameter search space\n",
    "param_dist = {\n",
    "    'max_depth': randint(1, 10),\n",
    "    'min_samples_split': randint(2, 10),\n",
    "    'min_samples_leaf': randint(1, 5),\n",
    "    'max_features': ['sqrt', 'log2', None]\n",
    "}\n",
    "\n",
    "# Create a Decision Tree classifier\n",
    "dt = DecisionTreeClassifier()\n",
    "\n",
    "# Perform random search\n",
    "random_search = RandomizedSearchCV(\n",
    "    dt, param_distributions=param_dist, n_iter=10, cv=5\n",
    ")\n",
    "\n",
    "# Fit the random search to find the best hyperparameters\n",
    "random_search.fit(X_train, y_train)\n",
    "\n",
    "# Print the best hyperparameters and the associated score\n",
    "print(\"Best Hyperparameters: \", random_search.best_params_)\n",
    "print(\"Best Score: \", random_search.best_score_)"
   ]
  },
  {
   "cell_type": "code",
   "execution_count": null,
   "id": "aefe3972",
   "metadata": {},
   "outputs": [],
   "source": [
    "best_random = random_search.best_estimator_\n",
    "y_pred = best_random.predict(X_test)"
   ]
  },
  {
   "cell_type": "code",
   "execution_count": 68,
   "id": "3422cf46",
   "metadata": {},
   "outputs": [
    {
     "name": "stdout",
     "output_type": "stream",
     "text": [
      "Best Hyperparameters:  {'max_depth': 5, 'max_features': 'log2', 'min_samples_leaf': 2, 'min_samples_split': 5}\n",
      "Best Score:  0.42169494786554856\n"
     ]
    }
   ],
   "source": [
    "from sklearn.model_selection import GridSearchCV\n",
    "from sklearn.tree import DecisionTreeClassifier\n",
    "\n",
    "# Define the hyperparameter search grid\n",
    "param_grid = {\n",
    "    'max_depth': [None, 5, 10, 15],\n",
    "    'min_samples_split': [2, 5, 10],\n",
    "    'min_samples_leaf': [1, 2, 4],\n",
    "    'max_features': ['sqrt', 'log2', None]\n",
    "}\n",
    "\n",
    "# Create a Decision Tree classifier\n",
    "dt = DecisionTreeClassifier()\n",
    "\n",
    "# Perform grid search\n",
    "grid_search = GridSearchCV(\n",
    "    dt, param_grid=param_grid, cv=5\n",
    ")\n",
    "\n",
    "# Fit the grid search to find the best hyperparameters\n",
    "grid_search.fit(X_train, y_train)\n",
    "\n",
    "# Print the best hyperparameters and the associated score\n",
    "print(\"Best Hyperparameters: \", grid_search.best_params_)\n",
    "print(\"Best Score: \", grid_search.best_score_)"
   ]
  },
  {
   "cell_type": "code",
   "execution_count": 71,
   "id": "85b63749",
   "metadata": {},
   "outputs": [],
   "source": [
    "#prediction from grid search, since it is best one\n",
    "best_grid= grid_search.best_estimator_\n",
    "y_pred= best_grid.predict(X_test)"
   ]
  },
  {
   "cell_type": "code",
   "execution_count": 36,
   "id": "84e32088",
   "metadata": {},
   "outputs": [],
   "source": [
    "import pickle\n",
    "pickle.dump(classifier, open(\"knnclassifier.pkl\", \"wb\"))"
   ]
  },
  {
   "cell_type": "code",
   "execution_count": 43,
   "id": "6595258d",
   "metadata": {},
   "outputs": [
    {
     "data": {
      "text/plain": [
       "array([[   0,    9,    0,    0, 2091,    5],\n",
       "       [   0,   12,    0,    0, 4896,   12],\n",
       "       [   0,    1,    0,    0,  241,    0],\n",
       "       [   0,    3,    0,    0,  705,    1],\n",
       "       [   0,   10,    0,    0, 7791,   15],\n",
       "       [   0,    7,    0,    0, 2550,   27]], dtype=int64)"
      ]
     },
     "execution_count": 43,
     "metadata": {},
     "output_type": "execute_result"
    }
   ],
   "source": [
    "from sklearn.metrics import confusion_matrix\n",
    "confusion_matrix(y_test, y_pred)"
   ]
  },
  {
   "cell_type": "code",
   "execution_count": 44,
   "id": "d02df483",
   "metadata": {},
   "outputs": [
    {
     "data": {
      "text/plain": [
       "array([4, 4, 4, ..., 4, 4, 4])"
      ]
     },
     "execution_count": 44,
     "metadata": {},
     "output_type": "execute_result"
    }
   ],
   "source": [
    "y_pred"
   ]
  },
  {
   "cell_type": "code",
   "execution_count": 27,
   "id": "a5e863a7",
   "metadata": {},
   "outputs": [
    {
     "name": "stdout",
     "output_type": "stream",
     "text": [
      "Element: 0, Count: 8580\n",
      "Element: 1, Count: 4961\n",
      "Element: 2, Count: 4835\n"
     ]
    }
   ],
   "source": [
    "#elements of y_test\n",
    "unique_elements, counts = np.unique(y_test, return_counts=True)\n",
    "\n",
    "# Print the unique elements and their counts\n",
    "for element, count in zip(unique_elements, counts):\n",
    "    print(f\"Element: {element}, Count: {count}\")"
   ]
  },
  {
   "cell_type": "code",
   "execution_count": 32,
   "id": "488be405",
   "metadata": {},
   "outputs": [
    {
     "name": "stdout",
     "output_type": "stream",
     "text": [
      "Element: 0, Count: 16033\n",
      "Element: 1, Count: 1197\n",
      "Element: 2, Count: 1146\n"
     ]
    }
   ],
   "source": [
    "#decision tree\n",
    "unique_elements, counts = np.unique(y_pred, return_counts=True)\n",
    "\n",
    "# Print the unique elements and their counts\n",
    "for element, count in zip(unique_elements, counts):\n",
    "    print(f\"Element: {element}, Count: {count}\")"
   ]
  },
  {
   "cell_type": "code",
   "execution_count": 30,
   "id": "795962a7",
   "metadata": {},
   "outputs": [
    {
     "name": "stdout",
     "output_type": "stream",
     "text": [
      "Element: 0, Count: 15631\n",
      "Element: 1, Count: 1421\n",
      "Element: 2, Count: 1324\n"
     ]
    }
   ],
   "source": [
    "#random forest\n",
    "unique_elements, counts = np.unique(y_pred, return_counts=True)\n",
    "\n",
    "# Print the unique elements and their counts\n",
    "for element, count in zip(unique_elements, counts):\n",
    "    print(f\"Element: {element}, Count: {count}\")"
   ]
  },
  {
   "cell_type": "code",
   "execution_count": 34,
   "id": "fd638c41",
   "metadata": {},
   "outputs": [
    {
     "name": "stdout",
     "output_type": "stream",
     "text": [
      "Element: 0, Count: 18376\n"
     ]
    }
   ],
   "source": [
    "#svc linear\n",
    "unique_elements, counts = np.unique(y_pred, return_counts=True)\n",
    "\n",
    "# Print the unique elements and their counts\n",
    "for element, count in zip(unique_elements, counts):\n",
    "    print(f\"Element: {element}, Count: {count}\")"
   ]
  },
  {
   "cell_type": "code",
   "execution_count": 26,
   "id": "5d7ea8f0",
   "metadata": {},
   "outputs": [
    {
     "name": "stdout",
     "output_type": "stream",
     "text": [
      "Element: 0, Count: 12795\n",
      "Element: 1, Count: 4096\n",
      "Element: 2, Count: 1485\n"
     ]
    }
   ],
   "source": [
    "#knn\n",
    "unique_elements, counts = np.unique(y_pred, return_counts=True)\n",
    "\n",
    "# Print the unique elements and their counts\n",
    "for element, count in zip(unique_elements, counts):\n",
    "    print(f\"Element: {element}, Count: {count}\")"
   ]
  },
  {
   "cell_type": "code",
   "execution_count": 70,
   "id": "87475ae7",
   "metadata": {},
   "outputs": [
    {
     "name": "stdout",
     "output_type": "stream",
     "text": [
      "Element: 4, Count: 18376\n"
     ]
    }
   ],
   "source": [
    "#grid search decision tree\n",
    "unique_elements, counts = np.unique(y_pred, return_counts=True)\n",
    "\n",
    "# Print the unique elements and their counts\n",
    "for element, count in zip(unique_elements, counts):\n",
    "    print(f\"Element: {element}, Count: {count}\")"
   ]
  },
  {
   "cell_type": "code",
   "execution_count": 72,
   "id": "5f68df2f",
   "metadata": {},
   "outputs": [
    {
     "name": "stdout",
     "output_type": "stream",
     "text": [
      "Element: 4, Count: 18336\n",
      "Element: 5, Count: 40\n"
     ]
    }
   ],
   "source": [
    "#random search decision tree\n",
    "unique_elements, counts = np.unique(y_pred, return_counts=True)\n",
    "\n",
    "# Print the unique elements and their counts\n",
    "for element, count in zip(unique_elements, counts):\n",
    "    print(f\"Element: {element}, Count: {count}\")"
   ]
  }
 ],
 "metadata": {
  "kernelspec": {
   "display_name": "Python 3 (ipykernel)",
   "language": "python",
   "name": "python3"
  },
  "language_info": {
   "codemirror_mode": {
    "name": "ipython",
    "version": 3
   },
   "file_extension": ".py",
   "mimetype": "text/x-python",
   "name": "python",
   "nbconvert_exporter": "python",
   "pygments_lexer": "ipython3",
   "version": "3.9.7"
  }
 },
 "nbformat": 4,
 "nbformat_minor": 5
}
