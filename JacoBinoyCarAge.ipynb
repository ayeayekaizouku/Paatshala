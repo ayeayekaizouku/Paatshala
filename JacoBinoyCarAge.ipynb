{
 "cells": [
  {
   "cell_type": "code",
   "execution_count": 1,
   "id": "a001ddbc",
   "metadata": {},
   "outputs": [],
   "source": [
    "import pandas as pd\n",
    "import numpy as np\n",
    "import matplotlib.pyplot as plt\n",
    "import seaborn as sns\n",
    "from sklearn.linear_model import Lasso\n",
    "from sklearn.linear_model import LinearRegression\n",
    "from sklearn.model_selection import train_test_split\n",
    "from sklearn.preprocessing import StandardScaler\n",
    "from sklearn.metrics import mean_squared_error, r2_score"
   ]
  },
  {
   "cell_type": "code",
   "execution_count": 10,
   "id": "41239e20",
   "metadata": {},
   "outputs": [],
   "source": [
    "df= pd.read_csv('car_age_price.csv')"
   ]
  },
  {
   "cell_type": "code",
   "execution_count": 12,
   "id": "53e58d88",
   "metadata": {},
   "outputs": [
    {
     "data": {
      "text/plain": [
       "(112, 2)"
      ]
     },
     "execution_count": 12,
     "metadata": {},
     "output_type": "execute_result"
    }
   ],
   "source": [
    "df.shape"
   ]
  },
  {
   "cell_type": "code",
   "execution_count": 3,
   "id": "6438e582",
   "metadata": {},
   "outputs": [
    {
     "data": {
      "text/html": [
       "<div>\n",
       "<style scoped>\n",
       "    .dataframe tbody tr th:only-of-type {\n",
       "        vertical-align: middle;\n",
       "    }\n",
       "\n",
       "    .dataframe tbody tr th {\n",
       "        vertical-align: top;\n",
       "    }\n",
       "\n",
       "    .dataframe thead th {\n",
       "        text-align: right;\n",
       "    }\n",
       "</style>\n",
       "<table border=\"1\" class=\"dataframe\">\n",
       "  <thead>\n",
       "    <tr style=\"text-align: right;\">\n",
       "      <th></th>\n",
       "      <th>Year</th>\n",
       "      <th>Price</th>\n",
       "    </tr>\n",
       "  </thead>\n",
       "  <tbody>\n",
       "    <tr>\n",
       "      <th>0</th>\n",
       "      <td>2018</td>\n",
       "      <td>465000</td>\n",
       "    </tr>\n",
       "    <tr>\n",
       "      <th>1</th>\n",
       "      <td>2019</td>\n",
       "      <td>755000</td>\n",
       "    </tr>\n",
       "    <tr>\n",
       "      <th>2</th>\n",
       "      <td>2019</td>\n",
       "      <td>700000</td>\n",
       "    </tr>\n",
       "    <tr>\n",
       "      <th>3</th>\n",
       "      <td>2018</td>\n",
       "      <td>465000</td>\n",
       "    </tr>\n",
       "    <tr>\n",
       "      <th>4</th>\n",
       "      <td>2018</td>\n",
       "      <td>465000</td>\n",
       "    </tr>\n",
       "  </tbody>\n",
       "</table>\n",
       "</div>"
      ],
      "text/plain": [
       "   Year   Price\n",
       "0  2018  465000\n",
       "1  2019  755000\n",
       "2  2019  700000\n",
       "3  2018  465000\n",
       "4  2018  465000"
      ]
     },
     "execution_count": 3,
     "metadata": {},
     "output_type": "execute_result"
    }
   ],
   "source": [
    "df.head()"
   ]
  },
  {
   "cell_type": "code",
   "execution_count": 5,
   "id": "b7af0f69",
   "metadata": {},
   "outputs": [
    {
     "name": "stdout",
     "output_type": "stream",
     "text": [
      "<class 'pandas.core.frame.DataFrame'>\n",
      "RangeIndex: 112 entries, 0 to 111\n",
      "Data columns (total 2 columns):\n",
      " #   Column  Non-Null Count  Dtype\n",
      "---  ------  --------------  -----\n",
      " 0   Year    112 non-null    int64\n",
      " 1   Price   112 non-null    int64\n",
      "dtypes: int64(2)\n",
      "memory usage: 1.9 KB\n"
     ]
    }
   ],
   "source": [
    "df.info()"
   ]
  },
  {
   "cell_type": "code",
   "execution_count": 6,
   "id": "2ae44df8",
   "metadata": {},
   "outputs": [
    {
     "data": {
      "text/plain": [
       "Index(['Year', 'Price'], dtype='object')"
      ]
     },
     "execution_count": 6,
     "metadata": {},
     "output_type": "execute_result"
    }
   ],
   "source": [
    "df.columns"
   ]
  },
  {
   "cell_type": "code",
   "execution_count": 7,
   "id": "9f55c423",
   "metadata": {},
   "outputs": [
    {
     "data": {
      "text/plain": [
       "Year     0\n",
       "Price    0\n",
       "dtype: int64"
      ]
     },
     "execution_count": 7,
     "metadata": {},
     "output_type": "execute_result"
    }
   ],
   "source": [
    "df.isna().sum()"
   ]
  },
  {
   "cell_type": "markdown",
   "id": "1d1cf338",
   "metadata": {},
   "source": [
    "### Handling outliers"
   ]
  },
  {
   "cell_type": "code",
   "execution_count": 13,
   "id": "0a504fb7",
   "metadata": {},
   "outputs": [
    {
     "data": {
      "text/plain": [
       "(111, 2)"
      ]
     },
     "execution_count": 13,
     "metadata": {},
     "output_type": "execute_result"
    }
   ],
   "source": [
    "j=1\n",
    "for i in ['Year', 'Price']:\n",
    "    Q1= np.percentile(df[i],25, interpolation='midpoint')\n",
    "    Q2= np.percentile(df[i],50, interpolation='midpoint')\n",
    "    Q3= np.percentile(df[i],75, interpolation='midpoint')\n",
    "    if Q2== df[i].median():\n",
    "        IQR= Q3-Q1\n",
    "        low_lim= Q1-1.5*IQR\n",
    "        up_lim= Q3+1.5*IQR\n",
    "        outlier =[]\n",
    "        for x in df[i]:\n",
    "            if(x<low_lim)or (x>up_lim):\n",
    "                outlier.append(x)\n",
    "        ind2= df[i]>up_lim\n",
    "        ind3= df[i]<low_lim\n",
    "        indicestodrop2= df.loc[ind2].index\n",
    "        indicestodrop3= df.loc[ind3].index\n",
    "        df= df.drop(indicestodrop2)\n",
    "        df= df.drop(indicestodrop3)\n",
    "    else:\n",
    "        print('check again')\n",
    "df.shape"
   ]
  },
  {
   "cell_type": "markdown",
   "id": "76a69b00",
   "metadata": {},
   "source": [
    "### Best linear relationship between year and price\n",
    "target is price"
   ]
  },
  {
   "cell_type": "code",
   "execution_count": 54,
   "id": "7ae03043",
   "metadata": {
    "scrolled": true
   },
   "outputs": [
    {
     "data": {
      "text/plain": [
       "Index(['Year', 'Price'], dtype='object')"
      ]
     },
     "execution_count": 54,
     "metadata": {},
     "output_type": "execute_result"
    }
   ],
   "source": [
    "df.columns"
   ]
  },
  {
   "cell_type": "code",
   "execution_count": 67,
   "id": "0818c49d",
   "metadata": {},
   "outputs": [],
   "source": [
    "y= df['Price']\n",
    "X= df.drop('Price', axis=1)"
   ]
  },
  {
   "cell_type": "code",
   "execution_count": 56,
   "id": "be40f6ed",
   "metadata": {},
   "outputs": [],
   "source": [
    "X_train, X_test, y_train, y_test= train_test_split(X,y, test_size=0.2, \n",
    "                                                  random_state=42)"
   ]
  },
  {
   "cell_type": "code",
   "execution_count": 57,
   "id": "d8c4e71a",
   "metadata": {},
   "outputs": [],
   "source": [
    "lr= LinearRegression()\n",
    "model= lr.fit(X_train, y_train)\n",
    "y_pred= model.predict(X_test)"
   ]
  },
  {
   "cell_type": "code",
   "execution_count": 58,
   "id": "89d1cd82",
   "metadata": {
    "scrolled": true
   },
   "outputs": [
    {
     "data": {
      "text/plain": [
       "array([418695.08304033, 541198.43288521, 418695.08304033, 418695.08304033,\n",
       "       500363.98293692, 418695.08304033, 500363.98293692, 582032.8828335 ,\n",
       "       622867.33278179, 500363.98293692, 418695.08304033, 377860.63309203,\n",
       "       541198.43288521, 418695.08304033, 500363.98293692, 500363.98293692,\n",
       "       500363.98293692, 337026.18314373, 459529.53298862, 582032.8828335 ,\n",
       "       582032.8828335 , 500363.98293692, 500363.98293692])"
      ]
     },
     "execution_count": 58,
     "metadata": {},
     "output_type": "execute_result"
    }
   ],
   "source": [
    "y_pred"
   ]
  },
  {
   "cell_type": "code",
   "execution_count": 59,
   "id": "72407119",
   "metadata": {
    "scrolled": true
   },
   "outputs": [
    {
     "data": {
      "text/plain": [
       "79     400000\n",
       "11     500000\n",
       "5      350000\n",
       "85     320000\n",
       "65     495000\n",
       "69     300000\n",
       "31     550000\n",
       "46     500000\n",
       "97     640000\n",
       "12     500000\n",
       "80     390000\n",
       "81     390000\n",
       "0      465000\n",
       "82     390000\n",
       "19     500000\n",
       "71     490000\n",
       "57     550000\n",
       "73     320000\n",
       "110    420000\n",
       "43     550000\n",
       "13     600000\n",
       "37     486000\n",
       "66     525000\n",
       "Name: Price, dtype: int64"
      ]
     },
     "execution_count": 59,
     "metadata": {},
     "output_type": "execute_result"
    }
   ],
   "source": [
    "y_test"
   ]
  },
  {
   "cell_type": "code",
   "execution_count": 60,
   "id": "5678c225",
   "metadata": {
    "scrolled": true
   },
   "outputs": [
    {
     "name": "stdout",
     "output_type": "stream",
     "text": [
      "MSE is:  2360736941.0488067\n",
      "R squared value is: 0.7087665874512326\n"
     ]
    }
   ],
   "source": [
    "print('MSE is: ', mean_squared_error(y_test, y_pred))\n",
    "print('R squared value is:', r2_score(y_test, y_pred))"
   ]
  },
  {
   "cell_type": "code",
   "execution_count": 61,
   "id": "ee32f241",
   "metadata": {},
   "outputs": [
    {
     "data": {
      "image/png": "[encoded data removed]",
      "text/plain": [
       "<Figure size 432x288 with 1 Axes>"
      ]
     },
     "metadata": {
      "needs_background": "light"
     },
     "output_type": "display_data"
    }
   ],
   "source": [
    "#scattering and finding regression line\n",
    "plt.scatter( X_test, y_test, color = 'blue' )\n",
    "\n",
    "plt.plot( X_test, y_pred, color = 'orange' )\n",
    "\n",
    "plt.title( '''Price of second-hand Hyundai grand i10 car with \n",
    "respect to year of making''' )\n",
    "\n",
    "plt.xlabel( 'Years of Making' )\n",
    "\n",
    "plt.ylabel( 'Price' )\n",
    "\n",
    "plt.show()"
   ]
  },
  {
   "cell_type": "markdown",
   "id": "718c0d70",
   "metadata": {},
   "source": [
    "### Price second hand at 2022"
   ]
  },
  {
   "cell_type": "code",
   "execution_count": 50,
   "id": "3d76c220",
   "metadata": {},
   "outputs": [
    {
     "name": "stdout",
     "output_type": "stream",
     "text": [
      "Predicted price at 2022: 704536.2326783836\n"
     ]
    }
   ],
   "source": [
    "#you need to input a 2d array, so np.array([[2022]]) \n",
    "#[0] for taking just a value in the dataframe\n",
    "\n",
    "predicted_price = model.predict(np.array([[2022]]))\n",
    "print('Predicted price at 2022:', predicted_price[0])"
   ]
  },
  {
   "cell_type": "markdown",
   "id": "f164dda0",
   "metadata": {},
   "source": [
    "### Lasso Regression model "
   ]
  },
  {
   "cell_type": "code",
   "execution_count": 70,
   "id": "f39f17f1",
   "metadata": {},
   "outputs": [
    {
     "name": "stdout",
     "output_type": "stream",
     "text": [
      "Mean Squared Error: 2360738206.8636756\n",
      "R_squared: 0.7087664312933915\n"
     ]
    }
   ],
   "source": [
    "lasso = Lasso(alpha=0.1)  # alpha is the regularization parameter\n",
    "model= lasso.fit(X_train, y_train)\n",
    "\n",
    "# Predicting on the test set, can replace model with lasso itself\n",
    "y_pred = model.predict(X_test)\n",
    "\n",
    "# Evaluating the model\n",
    "mse = mean_squared_error(y_test, y_pred)\n",
    "r2= r2_score(y_test, y_pred)\n",
    "print(\"Mean Squared Error:\", mse)\n",
    "print(\"R_squared:\", r2)"
   ]
  },
  {
   "cell_type": "markdown",
   "id": "4c7013ce",
   "metadata": {},
   "source": [
    "linear regression model works a bit better than lasso regression model"
   ]
  }
 ],
 "metadata": {
  "kernelspec": {
   "display_name": "Python 3 (ipykernel)",
   "language": "python",
   "name": "python3"
  },
  "language_info": {
   "codemirror_mode": {
    "name": "ipython",
    "version": 3
   },
   "file_extension": ".py",
   "mimetype": "text/x-python",
   "name": "python",
   "nbconvert_exporter": "python",
   "pygments_lexer": "ipython3",
   "version": "3.9.7"
  }
 },
 "nbformat": 4,
 "nbformat_minor": 5
}
